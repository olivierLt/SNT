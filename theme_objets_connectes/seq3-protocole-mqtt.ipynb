{
 "cells": [
  {
   "cell_type": "markdown",
   "metadata": {},
   "source": [
    "# Communication carte micro:bit broker MQTT\n",
    "\n",
    "L'objectif de cette activité est de faire communiquer un objet connecté avec un smartphone en utilisant le protocole MQTT. \n",
    "\n",
    "Le principe de la communication est le suivan. Un objet (del, capteur de température, ..) est branché sur la carte micro: bit . La carte micro:bit communique avec le PC.  Le PC se charge de communiquer avec un broker MQTT . Le smartphone communique avec le broker MQTT.\n",
    "\n",
    "       port série/USB                python                  broker MQTT                        client MQTT\n",
    "         microbit <---------------->   PC    <------------>  (Internet ou PC)   <-------------->  smartphone\n",
    " \n",
    "\n",
    "Prérequis\n",
    "- le client MQTT est installé sur les postes : commande pip install paho-mqtt \n",
    "- travail préparatoire sur le broker MQTT : [broker mosquitto](https://mosquitto.org \"https://mosquitto.org/\") : création de topcs, souscription, publication (cf activité 3 : le protocole MQTT)\n",
    "- utilisation du smartphone pour envoyer/recevoir des données : les élèves doivent avoir installé un client MQTT.\n",
    "\n",
    "\n",
    "## Activités\n",
    "- activité 1 : communication ordinateur / broker MQTT\n",
    "    - envoyer un message au broker depuis l'ordinateur \n",
    "    - récupérer ce message depuis un smartphone\n",
    "\n",
    "- activité 2 : envoyer /recevoir des messages depuis la carte micro:bit\n",
    "    - envoyer un message : la carte l'affiche avec ses LEDS\n",
    "    - Presser sur \"bouton A\" ou \"bouton B\" sur la carte : le téléphone reçoit un message \"bouton A\" ou \"bouton B\"\n",
    "\n",
    "- activité 3 : gestion de la luminosité\n",
    "    - si la luminosité est en dessous d'un certain seuil, un message \"faible luminosité\" est envoyé sur le portable\n",
    "    - depuis le portable, allumer une led branchée surla carte.\n",
    "\n",
    "\n",
    "La carte est connectée au python du poste prof via un port série (émulé sur port USB). \n",
    "\n",
    "\n",
    "\n",
    "## Configuration du client MQTT\n",
    "- ouvrir IOT MQTT Panel sur le smartphone\n",
    "- paramétrer une nouvelle connexion : se connecter au broker mosquitto.org ( https://mosquitto.org )\n",
    "- Port d'écoute du broker : 1883 .\n",
    "\n"
   ]
  },
  {
   "cell_type": "markdown",
   "metadata": {},
   "source": [
    "Pour faire communiquer la carte micro:bit et le broker MQTT  (activités 2 et 3) 4 codes sont nécessaires, à executer **dans cet ordre** sur le poste  \n",
    "\n",
    "1. le code à télécharger sur la carte microbit \n",
    "    - copier-coller le code python dans l'éditeur [python pour microbit](https://python.microbit.org/v/2.0 \" https://python.microbit.org/v/2.0 \")\n",
    "    - Dans l'éditeur python pour microbit, cliquer sur \"Download\"\n",
    "    - Glisser-Déposer le fichier microbit_program.hex téléchargé sur la carte microbit.\n",
    "2. le code pour trouver le port sur lequel est connecté la carte micro:bit (cliquer sur la cellule et \"executer\")\n",
    "3. le code à lancer sur le pc pour communiquer \n",
    "4. le code à lancer pour clore la communication"
   ]
  },
  {
   "cell_type": "markdown",
   "metadata": {},
   "source": [
    "##  Pour voir sur quel port  du PC est connecté la carte micro:bit\n",
    "\n",
    "Selon les PC, votre carte sera connectée sur le port série 'COM3' ou le port série 'COM7' ou le port série 'COM123'. Bref, il faut voir quel est le port série sur lequel se trouve la microbit. En exécutant le code ci-dessous on affiche toutes les infos sur les ports série disponibles / ouverts.  \n",
    "Sur mon PC, un seul en USB : donc c'était lui ('COM7') sur lequel était la microbit.\n",
    "\n",
    "(cliquer sur la cellule puis \"executer\")"
   ]
  },
  {
   "cell_type": "code",
   "execution_count": 1,
   "metadata": {},
   "outputs": [
    {
     "name": "stdout",
     "output_type": "stream",
     "text": [
      "----------------------\n",
      "COM3\n",
      "COM3\n",
      "Périphérique série USB (COM3)\n",
      "USB VID:PID=0D28:0204 SER=9901000050784E45000F10100000001F0000000097969901 LOCATION=1-1:x.1\n"
     ]
    }
   ],
   "source": [
    "import serial.tools.list_ports as sr_tl\n",
    "\n",
    "def scanner_ports_serie_pour_trouver_microbit():\n",
    "    K = sr_tl.comports()\n",
    "    for portInfo in K:\n",
    "        print('----------------------')\n",
    "        print(portInfo.device)\n",
    "        print(portInfo.name)\n",
    "        print(portInfo.description)\n",
    "        print(portInfo.hwid)\n",
    "\n",
    "scanner_ports_serie_pour_trouver_microbit()"
   ]
  },
  {
   "cell_type": "markdown",
   "metadata": {},
   "source": [
    "## Pour clore la communication avec le port série\n",
    "\n",
    "Il est nécessaire de clore la communication proprement, sinon le port série est \"immobilisé\" et on ne peut plus s'y reconnnecter. Il faut alors débrancher la carte micro:bit du PC et la rebrancher.\n",
    "\n",
    "Il faut exécuter le programme suivant\n"
   ]
  },
  {
   "cell_type": "code",
   "execution_count": 46,
   "metadata": {},
   "outputs": [],
   "source": [
    "import time\n",
    "continuer_lecture = False   # on coupe la boucle puis la comm \n",
    "time.sleep(1)\n",
    "COMM_SERIE.close()                       # sinon readline sur une comm coupée --> erreur\n",
    "CLIENT_MQTT.unsubscribe(TOPIC_MQTT_2_MB)    # désinscription du topic\n",
    "CLIENT_MQTT.loop_stop()         # clot la communication avec le broker"
   ]
  },
  {
   "cell_type": "markdown",
   "metadata": {},
   "source": [
    "## Activité 1 : communication ordinateur / broker MQTT\n",
    "\n",
    "1. Exécuter le programme ci dessous"
   ]
  },
  {
   "cell_type": "code",
   "execution_count": 10,
   "metadata": {},
   "outputs": [
    {
     "data": {
      "text/plain": [
       "(0, 1)"
      ]
     },
     "execution_count": 10,
     "metadata": {},
     "output_type": "execute_result"
    }
   ],
   "source": [
    "#code python à exécuter sur l'ordinateur (cliquer sur la cellule, puis \"executer\")\n",
    "\n",
    "from threading import Thread\n",
    "import paho.mqtt.client as mqtt\n",
    "import time\n",
    "  \n",
    "    \n",
    "\n",
    "def demarrer_client_mqtt(client):\n",
    "    client.connect_async(BROKER_IP, BROKER_PORT, 60)\n",
    "    client.loop_start()\n",
    "\n",
    "\n",
    "def test_envoi(chaine_car):\n",
    "    CLIENT_MQTT.publish(TOPIC, payload = chaine_car)\n",
    "\n",
    "\n",
    "BROKER_IP = \"test.mosquitto.org\" \n",
    "BROKER_PORT = 1883\n",
    "TOPIC= 'SNTLFV'\n",
    "CLIENT_MQTT = mqtt.Client()\n",
    "demarrer_client_mqtt(CLIENT_MQTT)\n",
    "time.sleep(1)\n",
    "CLIENT_MQTT.subscribe(TOPIC)"
   ]
  },
  {
   "cell_type": "markdown",
   "metadata": {},
   "source": [
    "2. Se connecter au broker MQTT\n",
    " - créer un panel \"Text Log\"\n",
    " - trouver le nom du topic à créer d'après le programme ci-dessus"
   ]
  },
  {
   "cell_type": "markdown",
   "metadata": {},
   "source": [
    "3. Executer le code suivant (cliquer sur la cellule, puis \"executer\"). Récupérer le message sur votre portable. Changer le topic dans le programme du dessus et le message. Récupérer le nouveau message sur le nouveau topic."
   ]
  },
  {
   "cell_type": "code",
   "execution_count": 20,
   "metadata": {},
   "outputs": [],
   "source": [
    "test_envoi(\"salut\")"
   ]
  },
  {
   "cell_type": "markdown",
   "metadata": {},
   "source": [
    "## Activité 2 : envoyer/recevoir des messages depuis/vers la carte micro:bit"
   ]
  },
  {
   "cell_type": "markdown",
   "metadata": {},
   "source": [
    "### Code à télécharger sur la carte micro:bit\n",
    "\n",
    "``` python\n",
    "import microbit\n",
    "\n",
    "microbit.uart.init(baudrate=115200, bits=8, parity=None, stop=1)\n",
    "\n",
    "while microbit.running_time() < 3600000:\n",
    "    \n",
    "    donnees = microbit.uart.readline()\n",
    "    if donnees != None:\n",
    "        message_recu = str(donnees, 'utf-8')\n",
    "        microbit.display.show(message_recu)\n",
    "        \n",
    "    if microbit.button_a.is_pressed():\n",
    "        microbit.uart.write('bouton A')\n",
    "        microbit.sleep(1000)\n",
    "        \n",
    "    if microbit.button_b.is_pressed():\n",
    "        microbit.uart.write('bouton B')\n",
    "        microbit.sleep(1000)\n",
    "```"
   ]
  },
  {
   "cell_type": "markdown",
   "metadata": {},
   "source": [
    "### Code à éxécuter sur le pc\n",
    "\n",
    "Modifier le port COM en fonction du port COM détecté par le code situé plus haut.\n",
    "\n",
    "Penser à clore la communication avec le code situé plus haut\n",
    "\n",
    "Grâce au module paho.mqtt.client, on crée un client MQTT : il s'agit d'un \"objet\" permettant d'assurer la communication avec le serveur (ou broker) MQTT.\n",
    "\n",
    "Ce \"client\" doit d'abord être connecté au broker grâce à la méthode demarrer_client().\n",
    "Ensuite on dispose de quatre méthodes :\n",
    "- `souscrire` permet de s'abonner à un topic.\n",
    "- `on_message` est automatiquement appelée à la réception d'un message : affichage du topic et du message.\n",
    "- `desabonner`  permet de cesser son abonnement à un topic donné.\n",
    "- `publier`   permet de publier un message sur un topic qui est précisé.\n"
   ]
  },
  {
   "cell_type": "code",
   "execution_count": null,
   "metadata": {},
   "outputs": [],
   "source": [
    "import serial\n",
    "from threading import Thread\n",
    "import paho.mqtt.client as mqtt\n",
    "import time\n",
    "\n",
    "    \n",
    "def on_connect_mqtt(client, userdata, flags, rc):\n",
    "    print(\"Connexion asynchrone effectuée avec le code résultant : \" + str(rc))\n",
    "    \n",
    "def on_message_mqtt(client, userdata, msg):\n",
    "    message = msg.payload.decode('utf-8')\n",
    "    print(message)\n",
    "    COMM_SERIE.write(message.encode(\"utf-8\"))\n",
    "\n",
    "def demarrer_client_mqtt(client):\n",
    "    client.on_connect = on_connect_mqtt\n",
    "    client.on_message = lambda c, u, m : on_message_mqtt(c, u, m)\n",
    "    client.connect_async(BROKER_IP, BROKER_PORT, 60)\n",
    "    client.loop_start()\n",
    "\n",
    "\n",
    "def ecoute_microbit(comm):\n",
    "    while continuer_lecture:\n",
    "        data = comm.readline().decode(\"utf-8\")\n",
    "        if data:\n",
    "            print(data)\n",
    "            CLIENT_MQTT.publish(TOPIC_MB_2_MQTT, payload = data)\n",
    "\n",
    "\n",
    "BROKER_IP = \"test.mosquitto.org\" \n",
    "BROKER_PORT = 1883\n",
    "TOPIC_MB_2_MQTT= 'SNTLFV/microbit/depuis_microbit'\n",
    "TOPIC_MQTT_2_MB= 'SNTLFV/microbit/vers_microbit'\n",
    "CLIENT_MQTT = mqtt.Client()\n",
    "demarrer_client_mqtt(CLIENT_MQTT)\n",
    "time.sleep(1)\n",
    "CLIENT_MQTT.subscribe(TOPIC_MQTT_2_MB)\n",
    "\n",
    "COMM_SERIE = serial.Serial('COM3', baudrate = 115200, bytesize = serial.EIGHTBITS, \n",
    "                           parity = serial.PARITY_NONE, stopbits = serial.STOPBITS_ONE, \n",
    "                           timeout=.1, write_timeout = 0)\n",
    "\n",
    "continuer_lecture = True\n",
    "thread_ecoute_microbit = Thread(target = lambda : ecoute_microbit(COMM_SERIE))\n",
    "thread_ecoute_microbit.start()"
   ]
  },
  {
   "cell_type": "markdown",
   "metadata": {},
   "source": [
    "1. Executer le code précédent (cliquer sur la cellule, puis \"executer\") \n",
    "Lors de l'apui sur les boutons A ou B, la micro:bit envoie ses infos sur le port série. Python récupère ces infos et les diffuse au broker sur le topic \"depuis_microbit\". Depuis le client MQTT du smartphone, on écoute la carte micro:bit sur le topic \"SNTLFV/depuis_microbit\".\n",
    "\n",
    "Sur le client MQTT du smartphone :\n",
    " - créer un panel de type \"Text Log\" . Trouver le nom du topic en fonction du programme ci-dessus\n",
    " - appuyer sur le bouton A ou B. Vérifier qu'on récupère le message sur le portable.\n"
   ]
  },
  {
   "cell_type": "markdown",
   "metadata": {},
   "source": [
    "2. On envoie à la carte micro:bit sur le topic  \"SNTLFV/vers_microbit\" \n",
    "\n",
    "Envoyer un message depuis le client MQTT du smartphone :\n",
    "  - créer un panel de type \"Text Input\". Trouver le nom du topic en fonction du programme ci-dessus.\n",
    "  - Envoyer un message sur la carte depuis votre portable. Vérifier que le message s'affiche sur la carte micro:bit."
   ]
  },
  {
   "cell_type": "markdown",
   "metadata": {},
   "source": [
    "**Clore la communication**"
   ]
  },
  {
   "cell_type": "markdown",
   "metadata": {},
   "source": [
    "## Activité 3 : gestion de la luminosité\n",
    "\n",
    "- Carte micro:bit\n",
    "    - capteur de lumière sur le pin0\n",
    "    - del rouge  sur le pin1\n",
    "    - del verte sur le pin2\n",
    "\n",
    "- Pour faire allumer/eteindre leds :\n",
    "    - publier sur le topic : SNTLFV/microbit/vers_microbit/leds/rouge ou SNTLFV/microbit/vers_microbit/leds/verte\n",
    "    - le message \"allume\" pour allumer\n",
    "    - le message \"eteint\" pour éteindre\n",
    "\n",
    "- Pour recevoir valeur de la luminosité : s'abonner au topic : SNTLFV/depuis_microbit/luminosite\n",
    "\n",
    "\n"
   ]
  },
  {
   "cell_type": "markdown",
   "metadata": {},
   "source": [
    "### Code à télécharger sur la carte microbit\n",
    "\n",
    "```python\n",
    "\n",
    "import microbit\n",
    "\n",
    "microbit.uart.init(baudrate=115200, bits=8, parity=None, stop=1)\n",
    "\n",
    "while microbit.running_time() < 36000000: #10 heures\n",
    "    \n",
    "    donnees = microbit.uart.readline()\n",
    "    if donnees != None:\n",
    "        message_recu = str(donnees, 'utf-8')\n",
    "        if message_recu == 'led_rouge_allume':\n",
    "            microbit.pin1.write_digital(1)\n",
    "        elif message_recu == 'led_rouge_eteint':\n",
    "            microbit.pin1.write_digital(0)  \n",
    "        elif message_recu == 'led_verte_allume':\n",
    "            microbit.pin2.write_digital(1)\n",
    "        elif message_recu == 'led_verte_eteint':\n",
    "            microbit.pin2.write_digital(0)\n",
    "            \n",
    "    lum = microbit.pin0.read_analog()\n",
    "    lumi = str(lum)\n",
    "    microbit.uart.write(lumi)\n",
    "    microbit.sleep(500)\n",
    "\n",
    "```"
   ]
  },
  {
   "cell_type": "markdown",
   "metadata": {},
   "source": [
    "### Code à éxécuter sur le pc\n",
    "\n",
    "Cliquer sur la cellule puis \"éxécuter\"\n",
    "\n",
    "Modifier le port COM en fonction du port COM détecté par le code situé plus haut.\n",
    "\n",
    "Penser à clore la communication avec le code situé plus haut"
   ]
  },
  {
   "cell_type": "code",
   "execution_count": 45,
   "metadata": {},
   "outputs": [
    {
     "name": "stdout",
     "output_type": "stream",
     "text": [
      "Connexion asynchrone effectuée avec le code résultant : 0\n"
     ]
    }
   ],
   "source": [
    "import serial\n",
    "from threading import Thread\n",
    "import paho.mqtt.client as mqtt\n",
    "import time\n",
    "\n",
    "    \n",
    "def on_connect_mqtt(client, userdata, flags, rc):\n",
    "    print(\"Connexion asynchrone effectuée avec le code résultant : \" + str(rc))\n",
    "    \n",
    "def on_message_mqtt(client, userdata, msg):\n",
    "    message = msg.payload.decode('utf-8')\n",
    "    if msg.topic == TOPIC_MQTT_2_MB[:-2] + '/rouge' :\n",
    "        message = 'led_rouge_' + message\n",
    "        COMM_SERIE.write(message.encode(\"utf-8\"))\n",
    "    elif msg.topic == TOPIC_MQTT_2_MB[:-2] + '/verte' :\n",
    "        message = 'led_verte_' + message\n",
    "        COMM_SERIE.write(message.encode(\"utf-8\"))   \n",
    "\n",
    "def demarrer_client_mqtt(client):\n",
    "    client.on_connect = on_connect_mqtt\n",
    "    client.on_message = lambda c, u, m : on_message_mqtt(c, u, m)\n",
    "    client.connect_async(BROKER_IP, BROKER_PORT, 60)\n",
    "    client.loop_start()\n",
    "\n",
    "\n",
    "def ecoute_microbit(comm):\n",
    "    while continuer_lecture:\n",
    "        data = comm.readline().decode(\"utf-8\")\n",
    "        if data:\n",
    "            #print(\"message reçu de port série et envoyé sur broker/depuis_microbit :\", data)\n",
    "            CLIENT_MQTT.publish(TOPIC_MB_2_MQTT + '/luminosite', payload = data)\n",
    "\n",
    "\n",
    "BROKER_IP = \"test.mosquitto.org\" \n",
    "BROKER_PORT = 1883\n",
    "TOPIC_MB_2_MQTT= 'SNTLFV/microbit/depuis_microbit'\n",
    "TOPIC_MQTT_2_MB= 'SNTLFV/microbit/vers_microbit/leds/#'\n",
    "CLIENT_MQTT = mqtt.Client()\n",
    "demarrer_client_mqtt(CLIENT_MQTT)\n",
    "time.sleep(1)\n",
    "CLIENT_MQTT.subscribe(TOPIC_MQTT_2_MB)\n",
    "\n",
    "COMM_SERIE = serial.Serial('COM3', baudrate = 115200, bytesize = serial.EIGHTBITS, \n",
    "                           parity = serial.PARITY_NONE, stopbits = serial.STOPBITS_ONE, \n",
    "                           timeout=.1, write_timeout = 0)\n",
    "\n",
    "continuer_lecture = True\n",
    "thread_ecoute_microbit = Thread(target = lambda : ecoute_microbit(COMM_SERIE))\n",
    "thread_ecoute_microbit.start()"
   ]
  },
  {
   "cell_type": "code",
   "execution_count": null,
   "metadata": {},
   "outputs": [],
   "source": []
  }
 ],
 "metadata": {
  "kernelspec": {
   "display_name": "Python 3",
   "language": "python",
   "name": "python3"
  },
  "language_info": {
   "codemirror_mode": {
    "name": "ipython",
    "version": 3
   },
   "file_extension": ".py",
   "mimetype": "text/x-python",
   "name": "python",
   "nbconvert_exporter": "python",
   "pygments_lexer": "ipython3",
   "version": "3.7.3"
  }
 },
 "nbformat": 4,
 "nbformat_minor": 2
}
