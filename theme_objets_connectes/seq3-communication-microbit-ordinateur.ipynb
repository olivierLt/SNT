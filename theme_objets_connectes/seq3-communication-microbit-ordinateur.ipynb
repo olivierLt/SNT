{
 "cells": [
  {
   "cell_type": "markdown",
   "metadata": {},
   "source": [
    "# Communication carte micro:bit ordinateur\n",
    "\n",
    "L'objectif de cette partie est de commander la carte micro:bit depuis l'ordinateur\n",
    "\n",
    "                                    port série/USB     python          \n",
    "                       microbit  <------------------>    PC  \n",
    "\n",
    "Le port est le point d'entrée /sortie de l'ordinateur\n",
    " "
   ]
  },
  {
   "cell_type": "markdown",
   "metadata": {},
   "source": [
    "## Les 4 étapes de la communication entre la carte et l'ordinateur\n",
    "\n",
    "Il y **toujours** 4 étapes à respecter pour communiquer entre la carte micro:bit et l'ordinateur \n",
    "\n",
    "\n",
    "1. trouver le port sur lequel est branché la carte micro:bit (ce sera toujours le même code)\n",
    "2.  installer le programme sur la carte micro:bit\n",
    "3.  mise en place de la communication entre l'ordinateur et la carte micro:bit\n",
    "4.  clore la communication avec la carte micro:bit (ce sera toujours le même code)"
   ]
  },
  {
   "cell_type": "markdown",
   "metadata": {},
   "source": [
    "##  Pour voir sur quel port  du PC est connecté la microbit\n",
    "\n",
    "Selon les PC, votre carte sera connectée sur le port série 'COM3' ou le port série 'COM7' ou le port série 'COM123'. Bref, il faut voir quel est le port série sur lequel se trouve la microbit. En exécutant le code ci-dessous on affiche toutes les infos sur les ports série disponibles / ouverts.  \n",
    "Sur mon PC, un seul en USB : donc c'était lui ('COM7') sur lequel était la microbit.\n",
    "\n",
    "Il faut exécuter le programme suivant (cliquer sur la cellule puis \"executer\")"
   ]
  },
  {
   "cell_type": "code",
   "execution_count": 28,
   "metadata": {},
   "outputs": [
    {
     "name": "stdout",
     "output_type": "stream",
     "text": [
      "----------------------\n",
      "COM3\n",
      "COM3\n",
      "Périphérique série USB (COM3)\n",
      "USB VID:PID=0D28:0204 SER=9901000050784E45000F10100000001F0000000097969901 LOCATION=1-1:x.1\n"
     ]
    }
   ],
   "source": [
    "import serial.tools.list_ports as sr_tl\n",
    "\n",
    "def scanner_ports_serie_pour_trouver_microbit():\n",
    "    K = sr_tl.comports()\n",
    "    for portInfo in K:\n",
    "        print('----------------------')\n",
    "        print(portInfo.device)\n",
    "        print(portInfo.name)\n",
    "        print(portInfo.description)\n",
    "        print(portInfo.hwid)\n",
    "\n",
    "scanner_ports_serie_pour_trouver_microbit()"
   ]
  },
  {
   "cell_type": "markdown",
   "metadata": {},
   "source": [
    "## Pour clore la communication avec le port série \n",
    "\n",
    "Il est nécessaire de clore la communication proprement, sinon le port série est \"immobilisé\" et on ne peut plus s'y reconnnecter. Il faut alors débrancher la carte micro:bit du PC et la rebrancher.\n",
    "\n",
    "Il faut exécuter le programme suivant (cliquer sur la cellule puis \"executer\")"
   ]
  },
  {
   "cell_type": "code",
   "execution_count": null,
   "metadata": {},
   "outputs": [],
   "source": [
    "continuer_lecture = False                # on coupe la boucle puis la comm \n",
    "comm_serie.close()                       # sinon readline sur une comm coupée --> erreur"
   ]
  },
  {
   "cell_type": "markdown",
   "metadata": {},
   "source": [
    "## Activité 1 :utilisation des capteurs interne de la  micro:bit\n",
    "\n",
    "\n",
    "###    Programme à installer  sur la carte micro:bit \n",
    "\n",
    "**Rappels**\n",
    "\n",
    "- copier-coller le code python dans l'éditeur [python pour microbit](https://python.microbit.org/v/2.0 \" https://python.microbit.org/v/2.0 \")\n",
    "- Dans l'éditeur python pour microbit, cliquer sur \"Download\"\n",
    "- Glisser-Déposer le fichier microbit_program.hex téléchargé sur la carte microbit.\n",
    "\n",
    "```python\n",
    " \n",
    "import microbit\n",
    "\n",
    "microbit.uart.init(baudrate=115200, bits=8, parity=None, stop=1)\n",
    "\n",
    "while microbit.running_time() < 3600000:\n",
    "    \n",
    "    donnees = microbit.uart.readline()\n",
    "    if donnees != None:\n",
    "        message_recu = str(donnees, 'utf-8')\n",
    "        microbit.display.show(message_recu)\n",
    "        \n",
    "    if microbit.button_a.is_pressed():\n",
    "        microbit.uart.write('bouton A')\n",
    "        microbit.sleep(1000)\n",
    "        \n",
    "    if microbit.button_b.is_pressed():\n",
    "        microbit.uart.write('bouton B')\n",
    "        microbit.sleep(1000)\n",
    "\n",
    "```"
   ]
  },
  {
   "cell_type": "markdown",
   "metadata": {},
   "source": [
    "###  Mise en place de la communication entre la carte micro:bit et l'ordinateur\n",
    "\n",
    "On crée une \"communication\" serie que l'on écoute et sur laquelle on peut envoyer des messages. Cela permet de mettre en place la communication et recevoir les messages en provenance de la carte microbit\n",
    "\n",
    "* Modifier la valeur du port dans le programme ci-dessous en fonction du code lancé au début : ce n'est pas forcément COM7\n",
    "* Cliquer sur la cellule puis \"executer\" pour lancer le programme\n",
    "* Ne pas oublier de clore\n"
   ]
  },
  {
   "cell_type": "code",
   "execution_count": null,
   "metadata": {},
   "outputs": [],
   "source": [
    "import serial\n",
    "from threading import Thread\n",
    "\n",
    "comm_serie = serial.Serial('COM3', baudrate = 115200, bytesize = serial.EIGHTBITS, \n",
    "                           parity = serial.PARITY_NONE, stopbits = serial.STOPBITS_ONE, \n",
    "                           timeout=.1, write_timeout = 0)\n",
    "\n",
    "# Modifier la valeur du port en fonction du code lancé au début : ce n'est pas forcément COM7\n",
    "\n",
    "\n",
    "def ecoute(comm):\n",
    "    while continuer_lecture:\n",
    "        data = comm.readline().decode(\"utf-8\")\n",
    "        if data != None and len(data)!= 0:\n",
    "            print(data)\n",
    "\n",
    "def envoyer_message(message, comm):\n",
    "    comm.write(message.encode(\"utf-8\"))\n",
    "\n",
    "\n",
    "\n",
    "continuer_lecture = True\n",
    "thread_ecoute = Thread(target = lambda : ecoute(comm_serie))\n",
    "thread_ecoute.start()"
   ]
  },
  {
   "cell_type": "markdown",
   "metadata": {},
   "source": [
    "### Questions"
   ]
  },
  {
   "cell_type": "markdown",
   "metadata": {},
   "source": [
    "1. Appuyer sur le bouton A , puis sur le bouton B, noter ce qui se passe"
   ]
  },
  {
   "cell_type": "raw",
   "metadata": {},
   "source": [
    "réponse :"
   ]
  },
  {
   "cell_type": "markdown",
   "metadata": {},
   "source": [
    "2. En déduire ce que fait la commande `microbit.uart.write('bouton B')` dans le programme téléchargé sur la carte micro:bit"
   ]
  },
  {
   "cell_type": "raw",
   "metadata": {},
   "source": [
    "réponse :"
   ]
  },
  {
   "cell_type": "markdown",
   "metadata": {},
   "source": [
    "3. Executer le code suivant (cliquer sur la cellule, puis \"executer\") et indiquer ce qui se passe. Modifier le contenu du message. "
   ]
  },
  {
   "cell_type": "code",
   "execution_count": 3,
   "metadata": {},
   "outputs": [],
   "source": [
    "message = ('HH ee ll ll oo !!')\n",
    "envoyer_message(message, comm_serie)"
   ]
  },
  {
   "cell_type": "raw",
   "metadata": {},
   "source": [
    "réponse :"
   ]
  },
  {
   "cell_type": "markdown",
   "metadata": {},
   "source": [
    "## Activité 2 : commander l'éclairage\n",
    "\n",
    "Il faut d'abord brancher le capteur de lumière sur le pin0 et la led rouge sur le pin1\n",
    "\n",
    "###  Programme à installer  sur la carte micro:bit \n",
    "\n",
    "\n",
    "\n",
    "- copier-coller le code python dans l'éditeur [python pour microbit](https://python.microbit.org/v/2.0 \" https://python.microbit.org/v/2.0 \")\n",
    "- Dans l'éditeur python pour microbit, cliquer sur \"Download\"\n",
    "- Glisser-Déposer le fichier microbit_program.hex téléchargé sur la carte microbit.\n",
    "\n",
    "```python\n",
    "import microbit\n",
    "\n",
    "microbit.uart.init(baudrate=115200, bits=8, parity=None, stop=1)\n",
    "\n",
    "while microbit.running_time() < 36000000: #10 heures\n",
    "    \n",
    "    donnees = microbit.uart.readline()\n",
    "    if donnees != None:\n",
    "        message_recu = str(donnees, 'utf-8')\n",
    "        if message_recu == 'allume':\n",
    "            microbit.pin1.write_digital(1)\n",
    "        elif message_recu == 'eteint':\n",
    "            microbit.pin1.write_digital(0)  \n",
    "                  \n",
    "    lum = microbit.pin0.read_analog()\n",
    "    lum = str(lum)\n",
    "    microbit.uart.write(lum)\n",
    "    microbit.sleep(500)\n",
    "\n",
    "\n",
    "```"
   ]
  },
  {
   "cell_type": "markdown",
   "metadata": {},
   "source": [
    "### Mise en place de la communication entre la carte micro:bit et l'ordinateur\n",
    "\n",
    "C'est le même programme que dans l'activité 2 (penser à modifier la valeur du port si nécessaire)."
   ]
  },
  {
   "cell_type": "code",
   "execution_count": null,
   "metadata": {},
   "outputs": [],
   "source": [
    "import serial\n",
    "from threading import Thread\n",
    "\n",
    "comm_serie = serial.Serial('COM3', baudrate = 115200, bytesize = serial.EIGHTBITS, \n",
    "                           parity = serial.PARITY_NONE, stopbits = serial.STOPBITS_ONE, \n",
    "                           timeout=.1, write_timeout = 0)\n",
    "\n",
    "# Modifier la valeur du port en fonction du code lancé au début : ce n'est pas forcément COM7\n",
    "\n",
    "\n",
    "def ecoute(comm):\n",
    "    while continuer_lecture:\n",
    "        data = comm.readline().decode(\"utf-8\")\n",
    "        if data != None and len(data)!= 0:\n",
    "            print(data)\n",
    "\n",
    "def envoyer_message(message, comm):\n",
    "    comm.write(message.encode(\"utf-8\"))\n",
    "\n",
    "\n",
    "\n",
    "continuer_lecture = True\n",
    "thread_ecoute = Thread(target = lambda : ecoute(comm_serie))\n",
    "thread_ecoute.start()"
   ]
  },
  {
   "cell_type": "markdown",
   "metadata": {},
   "source": [
    "### Questions"
   ]
  },
  {
   "cell_type": "markdown",
   "metadata": {},
   "source": [
    "1. Executer le programme avec différents éclairement (lumière forte, obscutité). Noter ce qui se passe "
   ]
  },
  {
   "cell_type": "raw",
   "metadata": {},
   "source": [
    "réponse"
   ]
  },
  {
   "cell_type": "markdown",
   "metadata": {},
   "source": [
    "2. Executer le code suivant (cliquer sur la cellule, puis \"executer\") et indiquer ce qui se passe. "
   ]
  },
  {
   "cell_type": "code",
   "execution_count": null,
   "metadata": {},
   "outputs": [],
   "source": [
    "message = ('allume')\n",
    "envoyer_message(message, comm_serie)"
   ]
  },
  {
   "cell_type": "markdown",
   "metadata": {},
   "source": [
    "3. Quel code faut il écrire pour éteindre la del ?. Ecrire ce code dans la cellule ci-dessous et vérifier le fonctionnement"
   ]
  },
  {
   "cell_type": "code",
   "execution_count": 21,
   "metadata": {},
   "outputs": [],
   "source": [
    "#écrire le code ici\n"
   ]
  },
  {
   "cell_type": "markdown",
   "metadata": {},
   "source": [
    "4. Identifier le capteur et l'actionneur"
   ]
  },
  {
   "cell_type": "raw",
   "metadata": {},
   "source": [
    "réponse : "
   ]
  },
  {
   "cell_type": "markdown",
   "metadata": {},
   "source": [
    "## Activité 3 : commander l'éclairage (programme avancé)\n",
    "\n",
    "Modifier un des  programmes précédents pour afficher à l'écran de l'ordinateur \"obscurité\" ou \"éclairage normal\" en fonction de la luminosité au niveau du capteur de lumière.\n",
    "\n",
    "Tester le programme"
   ]
  },
  {
   "cell_type": "code",
   "execution_count": null,
   "metadata": {},
   "outputs": [],
   "source": [
    "#écrire le code ici"
   ]
  }
 ],
 "metadata": {
  "kernelspec": {
   "display_name": "Python 3",
   "language": "python",
   "name": "python3"
  },
  "language_info": {
   "codemirror_mode": {
    "name": "ipython",
    "version": 3
   },
   "file_extension": ".py",
   "mimetype": "text/x-python",
   "name": "python",
   "nbconvert_exporter": "python",
   "pygments_lexer": "ipython3",
   "version": "3.7.3"
  }
 },
 "nbformat": 4,
 "nbformat_minor": 2
}
