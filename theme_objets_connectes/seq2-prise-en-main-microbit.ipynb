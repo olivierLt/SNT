{
 "cells": [
  {
   "cell_type": "markdown",
   "metadata": {},
   "source": [
    "# Prise en main de la carte micro:bit\n",
    "\n",
    "## Sources de ce document\n",
    "\n",
    "* [site de Frédéric junier](https://frederic-junier.org)\n",
    "* [site DANE de l'académie de Caen](https://dane.ac-caen.fr/Decouvrir-la-carte-BBC-micro-bit)\n",
    "* [site de Olivier Lécluse](https://lecluseo.scenari-community.org/CircuitPython/co/AA_kitSurvie_1.html)\n",
    "\n",
    "\n",
    "## Présentation de la carte micro:bit\n",
    "\n",
    "La carte micro:bit éditée par la BBC, est un nano-ordinateur appelé microcontrôleur qui peut équiper un système informatique embarqué. Elle est munie d’un processeur ARM et de plusieurs capteurs et interfaces de connexion. Le guide de présentation en ligne est disponible sur [le site officiel de microbit](https://archive.microbit.org/fr/guide/features/).\n",
    "\n",
    "![image de la carte micro:bit](https://archive.microbit.org/images/microbit-hardware-access.jpg)\n",
    "\n",
    "Elle comporte :\n",
    "* 25 LEDs,\n",
    "* deux boutons A et B programmables,\n",
    "* un bouton de réinitialisation,\n",
    "* des capteurs de lumière et de température,\n",
    "* des capteurs de mouvements (accéléromètre et boussole),\n",
    "* des broches de connexion\n",
    "\n",
    "Les programmes se transfèrent dans la carte depuis un ordinateur à l’aide d’un câble USB connecté au port micro-USB.\n",
    "L’alimentation de la carte se fait par le port micro-USB. \n",
    "\n",
    "## Comment programmer la carte micro:bit\n",
    "\n",
    "### Etape 1 : connecter la carte microbit au PC\n",
    "\n",
    "Connecter la carte micro:bit à l'ordinateur en utilisant un câble micro USB. La carte  micro:bit apparaîtra sur l'ordinateur comme un lecteur appelé \"MICROBIT\". Attention cependant, ce n'est pas un disque USB normal !\n",
    "\n",
    "### Etape 2 : programmer la carte avec l’éditeur Python du site de la fondation micro:bit\n",
    "\n",
    "La carte microbit utilise le langage python. Le programme doit être installé sur la carte en utilisant [l'éditeur en ligne python pour micro:bit]( https://python.microbit.org/v/2.0 \" https://python.microbit.org/v/2.0 \")\n",
    "1. Ecrire le programme en python\n",
    "2. Coller ce programe dans [l'éditeur](https://python.microbit.org/v/2.0/ \" https://python.microbit.org/v/2.0 \")\n",
    "3. Cliquer sur le bouton \"download\" dans l’éditeur.  Ceci téléchargera un fichier 'hex', qui est une forme compacte du programme que la carte micro:bit peut lire. \n",
    "4. Une fois le fichier hex téléchargé, copier -le dans la carte micro:bit, comme on copie un fichier sur une clé USB.\n",
    "\n",
    "![transfert fichier micro:bit](https://archive.microbit.org/images/quickstart/windows-sendto.gif)\n",
    "\n",
    "5. A noter que le programme .hex une fois déposé sur la carte micro:bit n'apparaît plus dans l'explrateur de fichier mais est bien installé sur la carte.\n",
    "6. Lorsque la communication entre l’ordinateur et la carte échoue, on peut essayer de la redémarrer avec le bouton reset situé au verso. \n",
    "\n",
    "\n",
    "**A SAVOIR**\n",
    "\n",
    "Lorsqu'il est indiqué \"Télécharger le code python sur la carte micro:bit\" il faut :\n",
    "- copier-coller le code python dans [l'éditeur python pour microbit](https://python.microbit.org/v/2.0 \" https://python.microbit.org/v/2.0 \")\n",
    "- Dans l'éditeur python pour microbit, cliquer sur \"Download\"\n",
    "- Glisser-Déposer le fichier microbit_program.hex téléchargé sur la carte microbit.\n"
   ]
  },
  {
   "cell_type": "markdown",
   "metadata": {},
   "source": [
    "## Premiers programmes : afficher une image\n",
    "\n",
    "\n",
    "**ATTENTION**\n",
    "Bien respecter la casse (majuscule et minuscule) et l'indentation  (= décalage) dans les programmes\n",
    "\n",
    "\n",
    "### Programme 1 :\n",
    "\n",
    "Télécharger le code python suivant sur la carte micro:bit\n",
    "\n",
    "``` python\n",
    "import microbit\n",
    "microbit.display.show('3...2...1...BONJOUR!')\n",
    "```\n",
    "\n",
    " #### Question 1 :\n",
    " \n",
    "1. Décrire ci-dessous l' effets du programme sur la carte \n",
    "2. Changer la commande `microbit.display.show` par ` microbit.display.scroll` . Comment est modifié le programme ?\n",
    "3. Une interaction est-elle possible ? "
   ]
  },
  {
   "cell_type": "markdown",
   "metadata": {},
   "source": [
    "**Réponse**\n",
    "\n",
    "\n"
   ]
  },
  {
   "cell_type": "markdown",
   "metadata": {},
   "source": [
    "#### interprétation des lignes de commande\n",
    "\n",
    "* La première ligne `import microbit` demande à MicroPython de récupérer tout ce dont il a besoin pour fonctionner avec la carte micro:bit. Tout cela se trouve dans un module appelé microbit.\n",
    "* La deuxième ligne `microbit.display.show('3...2...1...BONJOUR!')`  ou  `microbit.display.scroll('3...2...1...BONJOUR!')`  indique à MicroPython d’utiliser l’affichage pour afficher ce qu'il y a entre parenthèses ( les \\' '  à l'intérieur de la parenthèse signifient qu'**on ne peut afficher qu'une chaîne de caractère**).\n",
    " "
   ]
  },
  {
   "cell_type": "markdown",
   "metadata": {},
   "source": [
    "### Programme 2 : \n",
    "\n",
    "MicroPython est fourni avec beaucoup d’images intégrées à montrer sur l’affichage. Par exemple, pour que l’appareil ait l’air heureux, il faut taper le code :\n",
    "``` python\n",
    "import microbit\n",
    "display.show(microbit.Image.HAPPY)\n",
    "```\n",
    "L'ensemble des images intégrées est indiqué sur le [site officiel micro:bit](https://microbit-micropython.readthedocs.io/fr/latest/tutorials/images.html#images \"https://microbit-micropython.readthedocs.io/fr/latest/tutorials/images.html#images\")\n",
    "\n",
    "#### Question 2\n",
    "\n",
    "Taper ci-dessous le code et télécharger le sur la carte micro:bit pour afficher un visage triste\n"
   ]
  },
  {
   "cell_type": "markdown",
   "metadata": {},
   "source": [
    "**code à entrer ici**\n",
    "\n"
   ]
  },
  {
   "cell_type": "markdown",
   "metadata": {},
   "source": [
    "### Programme 3\n",
    "\n",
    "On peut également commande l'affichage de chaque pixel  Chaque pixel LED sur l’affichage physique peut prendre une parmi dix valeurs. Si un pixel prend la valeur 0 (zéro) c’est qu’il est éteint. Litéralement, il a une luminosité de zéro.En revanche, s’il prend la valeur 9 il est à la luminosité maximale. Les valeurs de 1 à 8 représentent des niveaux de luminosité entre éteint (0) et « à fond » (9).\n",
    "Muni de ces informations, il est possible de créer une nouvelle image comme ça:\n",
    "\n",
    "``` python\n",
    "\n",
    "import microbit \n",
    "while True:\n",
    "    boat = microbit.Image(\"05050:\"\n",
    "             \"05050:\"\n",
    "             \"05050:\"\n",
    "             \"99999:\"\n",
    "             \"09990\")\n",
    "    microbit.display.show(boat)\n",
    "    \n",
    "```\n",
    "La commande `while True` est une boucle infinie qui permet au programme de tourner indéfiniment et donc d'afficher l'image de manière permanente.\n",
    "\n",
    "#### Question 3\n",
    "\n",
    "Taper ci-dessous le code et télécharger le sur la carte pour afficher une image définie pixel par pixel."
   ]
  },
  {
   "cell_type": "markdown",
   "metadata": {},
   "source": [
    "**code à entrer ici**\n",
    "\n",
    "\n"
   ]
  },
  {
   "cell_type": "markdown",
   "metadata": {},
   "source": [
    "## Boucle et capture d'évènement\n",
    "\n",
    "Dans un objet comportant de l'infomatique embarquée, la chaîne de traitement de l'information peut être résumée ainsi :\n",
    "\n",
    "capteurs ---> données ---> |algorithme| ---> contrôle ---> actionneurs\n",
    "\n",
    "L'algorithme comporte souvent une boucle et sa structure (très simplifiée !) ressemble à ceci\n",
    "Initialiser les actionneurs à leur position de départ \n",
    "\n",
    "```\n",
    "Tant que Vrai \n",
    "Lire les informations des capteurs \n",
    "Traiter ces informations \n",
    "Calculer des informations sur les actionneurs\n",
    "Transmettre ces informations aux actionneurs\n",
    "```\n"
   ]
  },
  {
   "cell_type": "markdown",
   "metadata": {},
   "source": [
    "\n",
    "## Boucle while\n",
    "\n",
    "Télécharger le code python suivant sur la carte micro:bit\n",
    "\n",
    "### Programme 4\n",
    "\n",
    "``` python\n",
    "import microbit \n",
    "while microbit.running_time()<5000:\n",
    "  microbit.display.show(microbit.Image.SAD)\n",
    "microbit.display.show(microbit.Image.SURPRISED)\n",
    "microbit.sleep(5000)\n",
    "microbit.display.clear() \n",
    "```\n",
    "\n",
    "#### Question 4\n",
    "\n",
    "Répondre aux questions suivantes dans le bloc ci-desous\n",
    "1. Décrire l’effet du programme sur la carte. Une interaction est-elle possible? \n",
    "2. Préciser le rôle de chaque instruction en modifiant la valeurs des arguments (les valeurs données dans le programme sont des durées en millisecondes).\n"
   ]
  },
  {
   "cell_type": "markdown",
   "metadata": {},
   "source": [
    "**Réponse :**\n"
   ]
  },
  {
   "cell_type": "markdown",
   "metadata": {},
   "source": [
    "## Boucle avec test\n",
    "\n",
    "\n",
    "### Programme 5 \n",
    "\n",
    "Télécharger le code python suivant sur la carte micro:bit\n",
    "\n",
    "```python\n",
    "import microbit \n",
    "while True:\n",
    "  if microbit.button_a.is_pressed():\n",
    "    microbit.display.show(microbit.Image.HAPPY)\n",
    "  else:\n",
    "    microbit.display.show(microbit.Image.SAD)\n",
    "```\n",
    "\n",
    "#### Question 5\n",
    "\n",
    "Répondre aux questions suivantes dans le bloc ci-desous\n",
    "1. Décrire l’effet du programme sur la carte. Une interaction est-elle possible? \n",
    "2. Préciser le rôle de chaque instruction . \n",
    "\n",
    "  "
   ]
  },
  {
   "cell_type": "markdown",
   "metadata": {},
   "source": [
    "**Réponse**"
   ]
  },
  {
   "cell_type": "markdown",
   "metadata": {},
   "source": [
    "### Programme 6 \n",
    "\n",
    "Télécharger le code python suivant sur la carte micro:bit\n",
    "\n",
    "```python\n",
    "import microbit\n",
    "while True:\n",
    "    if microbit.button_a.is_pressed() and microbit.button_b.is_pressed():\n",
    "        microbit.display.scroll(\"AB\")\n",
    "    elif microbit.button_a.is_pressed():\n",
    "        microbit.display.scroll(\"A\")\n",
    "    elif microbit.button_b.is_pressed():\n",
    "        microbit.display.scroll(\"B\")\n",
    "    microbit.sleep(100)\n",
    "```\n",
    "\n",
    "#### Question 6\n",
    "\n",
    "Répondre aux questions suivantes dans le bloc ci-desous\n",
    "Décrire l’effet du programme sur la carte. Une interaction est-elle possible? \n",
    "\n",
    "\n",
    "  "
   ]
  },
  {
   "cell_type": "markdown",
   "metadata": {},
   "source": [
    "**Réponse :**\n",
    "\n"
   ]
  },
  {
   "cell_type": "markdown",
   "metadata": {},
   "source": [
    " # Afficher les mesures des capteurs"
   ]
  },
  {
   "cell_type": "markdown",
   "metadata": {},
   "source": [
    "## Afficher la mesure d'un capteur interne (1) : affichage de la température\n",
    "\n",
    "La carte micro:bit intègre un capteur de température. Il n'est pas très précis dans la mesure ou il est soudé sur la carte elle-même, à proximité du processeur. Celui-ci chauffant très peu, la température est proche de la température ambiante. Elle est donnée en degrés Celsius à l'aide de la fonction `microbit.temperature()` et est de type \"entier\" qu'il convient de convertir en chaîne de caractères si on souhaite l'afficher..\n",
    "\n",
    "### Programme 7\n",
    "\n",
    "Télécharger le code python suivant sur la carte micro:bit\n",
    "\n",
    "``` python\n",
    "import microbit\n",
    "while microbit.running_time()<3600000:\n",
    "    temp = microbit.temperature()\n",
    "    tempe = str(temp)+'C '\n",
    "    microbit.display.show(tempe)\n",
    "    microbit.sleep(1000)\n",
    "```\n",
    "\n",
    "#### Question 7\n",
    "\n",
    "Répondre aux questions suivantes dans le bloc ci-desous\n",
    "1. Décrire l’effet du programme sur la carte. Une interaction est-elle possible?\n",
    "2. Pourquoi peut on dire que la sonde de température est un capteur ?\n",
    "3. Pourquoi peut on dir que les leds sont des actionneurs ?\n",
    "4. à la ligne 3 du code  quel est le type de la variable `temp` : nombre ou chaîne de caractères ?\n",
    "5. à la ligne 4, quel est le type de la variable `tempe`  : nombre ou chaîne de caractères ?\n",
    "6. à quoi sert l'instruction de la ligne 6 ?"
   ]
  },
  {
   "cell_type": "markdown",
   "metadata": {},
   "source": [
    "**Réponse**\n",
    "\n"
   ]
  },
  {
   "cell_type": "markdown",
   "metadata": {},
   "source": [
    "## Afficher la mesure d'un capteur interne (2) : affichage de la luminosité\n",
    "\n",
    "En inversant les LEDs d'un écran pour devenir un point d'entrée, l'écran LED devient un capteur de lumière basique, permettant de détecter la luminosité ambiante. La valeur de la luminosté est donnée à l'aide de la fonction `microbit.display.read_light_level()` sous la forme d'un entier compris entre 0 et 255 (plus la valeur est élevée plus la luminosité est importante) qu'il convient de convertir en chaîne de caractères si on souhaite l'afficher..\n",
    "\n",
    "### Programme 8\n",
    "\n",
    "Télécharger le code python suivant sur la carte micro:bit\n",
    "\n",
    "``` python\n",
    "import microbit\n",
    "while microbit.running_time()<3600000:\n",
    "    lum = microbit.display.read_light_level()\n",
    "    lumi = str(lum)\n",
    "    microbit.display.show(lumi)\n",
    "    microbit.sleep(3000)\n",
    "```\n",
    "\n",
    "#### Question 8\n",
    "\n",
    "Répondre aux questions suivantes dans le bloc ci-desous\n",
    "1. Décrire l’effet du programme sur la carte. Une interaction est-elle possible?\n",
    "2. Identiﬁer capteur et actionneur.\n",
    "3. à la ligne 3 du code  quel est le type de la variable `lum` : nombre ou chaîne de caractères ?\n",
    "4. à la ligne 4, quel est le type de la variable `lumi`  : nombre ou chaîne de caractères ?\n",
    "5. à quoi sert l'instruction de la ligne 6 ?\n",
    "\n",
    "\n"
   ]
  },
  {
   "cell_type": "markdown",
   "metadata": {},
   "source": [
    "**Réponse :**"
   ]
  },
  {
   "cell_type": "markdown",
   "metadata": {},
   "source": [
    "## Afficher la mesure d'un capteur externe "
   ]
  },
  {
   "cell_type": "markdown",
   "metadata": {},
   "source": [
    "### Bornes d'entrées /sorties \n",
    "\n",
    "Il y a des bandes de métal sur le côté bas de la micro:bit qui lui font des sortes de dents. Ce sont les pin d’entrée/sortie (ou pin E/S pour faire court). Chaque pin sur la micro:bit est représenté par un objet appelé pinN où N est le numéro du pin. Donc, par exemple, pour faire quelque chose avec le pin numéroté 0 , on utilise l’objet appelé pin0.\n",
    "On va pouvoir lire (pour les capteurs) ou envoyer (pour les actionneurs) des données sur ces pins.\n",
    "Les données seront de type analogique (plusieurs valeurs possibles), l'instruction est ` analog()`  ou logique ( 2 valeurs possibles : 0 ou 1), l'instruction est ` digital()`. \n",
    "\n",
    "![images pins micro;bit](https://microbit-micropython.readthedocs.io/fr/latest/_images/blue-microbit.png)"
   ]
  },
  {
   "cell_type": "markdown",
   "metadata": {},
   "source": [
    "### Le capteur de luminosité\n",
    "\n",
    "La valeur renvoyée par le capteur est analogique. L'instruction  `pinX.read_analog()` lit la valeur sur le pinX et renvoie un nombre entier compris entre 0 et 1023 (plus la valeur est grande, plus la luminosité est forte) qu'il convient de convertir en chaîne de caractères si on souhaite l'afficher.\n",
    "\n",
    "### Programme 9\n",
    "\n",
    "1. Connecter le capteur de luminosité sur un des pins 0, 1 ou 2 \n",
    "2. Adapter le numéro de pin du code python ci-dessous à celui que vous avez choisi pour connecter votre capteur de luminosité. \n",
    "3. Télécharger le code python ci-dessous sur la carte microbit \n",
    "4. Tester son fonctionnement en adaptant la luminosité (par exemple en mettant le capteur dans un endroit sombre ou en l'éclairant avec la lampe de votre smartphone).\n",
    "\n",
    "``` python\n",
    "import microbit\n",
    "while microbit.running_time()<3600000:\n",
    "    a = microbit.pin0.read_analog()\n",
    "    b = str(a) + ' '\n",
    "    microbit.display.scroll(b)\n",
    "    microbit.sleep(50)\n",
    "```\n"
   ]
  },
  {
   "cell_type": "markdown",
   "metadata": {},
   "source": [
    "# Mise en oeuvre des actionneurs externes\n",
    "\n",
    "Pour les actionneurs, il faut envoyer des données sur le pin sur lequel est branché l'actionneur\n"
   ]
  },
  {
   "cell_type": "markdown",
   "metadata": {},
   "source": [
    "##  Le Buzzer \n",
    "\n",
    "Le buzzer ne peut recevoir que deux valeurs (donc de type logique). Si on écrit 1 sur la sortie digitale, le buzzer bippe, si on écrit 0, il ne fait rien. Il n'est pas possible de faire des notes car il s'agit d'un buzzer et pas d'un haut-parleur. On utilise l'intruction `pinX.write_digital()` pour faire fonctionner le buzzer.\n",
    "\n",
    "### Programme 10\n",
    "\n",
    "1. Connecter le buzzer sur un des pins 0, 1 ou 2 \n",
    "2. Adapter le numéro de pin du code python ci-dessous à celui que vous avez choisi pour connecter votre buzzer. \n",
    "3. Télécharger le code python ci-dessous sur la carte microbit \n",
    "4. Tester rapidement son fonctionnement (puis le débrancher pour ne pas faire trop de bruit).\n",
    "\n",
    "``` python\n",
    "import microbit\n",
    "while microbit.running_time()<3600000:\n",
    "    microbit.pin0.write_digital(1)\n",
    "    microbit.sleep(100)\n",
    "    microbit.pin0.write_digital(0)\n",
    "    microbit.sleep(2000)\n",
    "```\n"
   ]
  },
  {
   "cell_type": "markdown",
   "metadata": {},
   "source": [
    "## La diode (LED)\n",
    "\n",
    "La diode ne ne peut recevoir que deux valeurs : 0 (diode éteinte) ou 1 (diode allumée). On utilise également l'instruction `pinX.write_digital()` pour faire fonctionner la diode. Le potentiomètre permet de réguler la luminosité.\n",
    "\n",
    "### Programme 11\n",
    "\n",
    "En s'inspirant du programme 10, écrire un programme faisant clignoter la diode , puis télécharger le code sur la carte micro:bit.\n"
   ]
  },
  {
   "cell_type": "markdown",
   "metadata": {},
   "source": [
    "**code à entrer ici**\n",
    "\n"
   ]
  },
  {
   "cell_type": "markdown",
   "metadata": {},
   "source": [
    "# Activités de synthèse\n",
    "\n",
    "En  s'inspirant des programmes précédent, il faut brancher les bons capteurs et/ou actionneurs, écrire un programme , le télécharger sur la carte  micro:bit et l faire fonctionner."
   ]
  },
  {
   "cell_type": "markdown",
   "metadata": {},
   "source": [
    "## Activité 1 : alerte canicule\n",
    "\n",
    " Allumer une diode verte si la température est inférieure à 20°C  et rouge si la température est supérieure à 20°C"
   ]
  },
  {
   "cell_type": "markdown",
   "metadata": {},
   "source": [
    "**code à entrer ici**\n",
    "\n"
   ]
  },
  {
   "cell_type": "markdown",
   "metadata": {},
   "source": [
    "## Activité 2 : détecteur de présence\n",
    "\n",
    "déclecher un buzzer si la luminosité est en dessous d'une certaine valeur (indiquant que quelque chose est passé devant le capteur)."
   ]
  },
  {
   "cell_type": "markdown",
   "metadata": {},
   "source": [
    "**code à entrer ici**\n",
    "\n"
   ]
  }
 ],
 "metadata": {
  "kernelspec": {
   "display_name": "Python 3",
   "language": "python",
   "name": "python3"
  },
  "language_info": {
   "codemirror_mode": {
    "name": "ipython",
    "version": 3
   },
   "file_extension": ".py",
   "mimetype": "text/x-python",
   "name": "python",
   "nbconvert_exporter": "python",
   "pygments_lexer": "ipython3",
   "version": "3.7.3"
  }
 },
 "nbformat": 4,
 "nbformat_minor": 2
}
