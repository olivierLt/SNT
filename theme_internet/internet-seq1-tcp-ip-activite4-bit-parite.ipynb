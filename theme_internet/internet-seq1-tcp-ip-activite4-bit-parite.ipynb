{
 "cells": [
  {
   "cell_type": "markdown",
   "metadata": {},
   "source": [
    "\n",
    "# THEME 1 : INTERNET\n",
    "\n",
    " ## ACTIVITE 4 Le bit de parité\n",
    "\n",
    "\n",
    "## Objctif : programmer une fonction de test de bit de parité en python.\n",
    "\n",
    "Un notebook se lit de haut en bas. Toutes les cellules de code doivent être exécutées :\n",
    "\n",
    "   - soit en cliquant sur le bouton \"Exécuter\" dans la barre d'outil\n",
    "   - soit au clavier en tapant sur les touches MAJ + ENTREE\n",
    "\n",
    "Pour récupérer votre travail sur votre ordinateur : menu File > Download As > Notebook (.ipynb)\n"
   ]
  },
  {
   "cell_type": "markdown",
   "metadata": {},
   "source": [
    "<div class = \"alert alert-info\">\n",
    " \n",
    "Dans cette activité , on va utiliser une fonction python qui permet de réaliser une tâche. La syntaxe Python pour la définition d’une fonction est la suivante :\n",
    "\n",
    "``` python   \n",
    "def nom_fonction(liste de paramètres):\n",
    "      bloc d'instructions\n",
    "```\n",
    "\n",
    "Le bloc d'instruction est décalé : on parle d'indentation."
   ]
  },
  {
   "cell_type": "markdown",
   "metadata": {},
   "source": [
    "<div class = \"alert alert-warning\">\n",
    "\n",
    "1- Exécutez la fonction suivante, puis faites la fonctionner "
   ]
  },
  {
   "cell_type": "code",
   "execution_count": 7,
   "metadata": {},
   "outputs": [],
   "source": [
    "def somme(a,b):\n",
    "    s=a+b\n",
    "    return s"
   ]
  },
  {
   "cell_type": "code",
   "execution_count": 8,
   "metadata": {},
   "outputs": [],
   "source": [
    "# test de la fonction\n"
   ]
  },
  {
   "cell_type": "markdown",
   "metadata": {},
   "source": [
    "<div class = \"alert alert-warning\">\n",
    "    \n",
    "2- Écrivez une fonction python similaire avec 5 nombres, puis faite la fonctionner."
   ]
  },
  {
   "cell_type": "code",
   "execution_count": null,
   "metadata": {},
   "outputs": [],
   "source": [
    "#fonction"
   ]
  },
  {
   "cell_type": "code",
   "execution_count": 9,
   "metadata": {},
   "outputs": [],
   "source": [
    "# test de la fonction\n"
   ]
  },
  {
   "cell_type": "markdown",
   "metadata": {},
   "source": [
    "<div class = \"alert alert-warning\">\n",
    "\n",
    "3- Executez, puis faites fonctionner la fonction suivante. En déduire ce que réalise la fonction "
   ]
  },
  {
   "cell_type": "code",
   "execution_count": 10,
   "metadata": {},
   "outputs": [],
   "source": [
    "def test(a,b):\n",
    "    if a==b:\n",
    "        return \"coucou\"\n",
    "    else:\n",
    "        return \"salut\""
   ]
  },
  {
   "cell_type": "code",
   "execution_count": null,
   "metadata": {},
   "outputs": [],
   "source": []
  },
  {
   "cell_type": "markdown",
   "metadata": {},
   "source": [
    "Réponse :"
   ]
  },
  {
   "cell_type": "markdown",
   "metadata": {},
   "source": [
    "<div class = \"alert alert-warning\">\n",
    "    \n",
    "4- Quel est le rôle du == à la ligne 2 ?"
   ]
  },
  {
   "cell_type": "markdown",
   "metadata": {},
   "source": [
    "Réponse :"
   ]
  },
  {
   "cell_type": "markdown",
   "metadata": {},
   "source": [
    "<div class = \"alert alert-warning\">\n",
    "5- Par quelle opération mathématique peut-on savoir si un nombre est pair ou impair ?"
   ]
  },
  {
   "cell_type": "markdown",
   "metadata": {},
   "source": [
    "Réponse :"
   ]
  },
  {
   "cell_type": "markdown",
   "metadata": {},
   "source": [
    "<div class = \"alert alert-info\">\n",
    "\n",
    "La fonction « % » (modulo) dans python correspond au reste de la division euclidienne.\n",
    "\n",
    "Petit Rappel sur la division euclidienne : il s'agit d'une division de nombres entiers \n",
    "![division euclidienne](./images/division-euclidienne.png)\n",
    "\n",
    "Par exemple si on effectue la division euclidienne de 17 par 5 : ![division euclidienne de 17 par 5](./images/exemple-division-euclidienne.png). Ce reste vaut 2 et se calcule de la manière suivante en python : 17%5\n"
   ]
  },
  {
   "cell_type": "markdown",
   "metadata": {},
   "source": [
    "<div class = \"alert alert-warning\">\n",
    "    \n",
    "6-  Élaborez une fonction de variable S qui teste la parité de de S."
   ]
  },
  {
   "cell_type": "code",
   "execution_count": null,
   "metadata": {},
   "outputs": [],
   "source": [
    "#fonction"
   ]
  },
  {
   "cell_type": "code",
   "execution_count": 11,
   "metadata": {},
   "outputs": [],
   "source": [
    "# test de la fonction"
   ]
  },
  {
   "cell_type": "markdown",
   "metadata": {},
   "source": [
    "<div class = \"alert alert-warning\">\n",
    "\n",
    "7- Écrivrez une fonction à six variables et qui :\n",
    "- Permet l'entrée de 5 variables binaires (0 ou 1) correspondant aux bits de données et la sixième au bit de parité\n",
    "- Calcule la somme des cinq premières variables.\n",
    "- Calcule le reste de la division euclidienne de cette somme.\n",
    "- Affiche  \" Bit de parité correct \" si le bit de parité est bon et affiche \" Erreur \" si le bit de parité est incorrect\n",
    "\n",
    "**rappel** :  le bit de parité vaut 1 si le nombre de 1 dans votre lettre codée est pair et 0 si impair"
   ]
  },
  {
   "cell_type": "code",
   "execution_count": 43,
   "metadata": {},
   "outputs": [],
   "source": [
    "#fonction"
   ]
  },
  {
   "cell_type": "code",
   "execution_count": 6,
   "metadata": {},
   "outputs": [],
   "source": [
    "# test de la fonction"
   ]
  }
 ],
 "metadata": {
  "kernelspec": {
   "display_name": "Python 3",
   "language": "python",
   "name": "python3"
  },
  "language_info": {
   "codemirror_mode": {
    "name": "ipython",
    "version": 3
   },
   "file_extension": ".py",
   "mimetype": "text/x-python",
   "name": "python",
   "nbconvert_exporter": "python",
   "pygments_lexer": "ipython3",
   "version": "3.7.3"
  }
 },
 "nbformat": 4,
 "nbformat_minor": 2
}
