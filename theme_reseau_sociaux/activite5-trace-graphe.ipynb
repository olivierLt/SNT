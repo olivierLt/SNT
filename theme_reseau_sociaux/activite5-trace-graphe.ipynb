{
 "cells": [
  {
   "cell_type": "markdown",
   "metadata": {},
   "source": [
    "# Tracé de Graphe"
   ]
  },
  {
   "cell_type": "markdown",
   "metadata": {},
   "source": [
    "Un notebook se lit de haut en bas. Toutes les cellules de code doivent être exécutées :\n",
    "- soit en cliquant sur le bouton \"Exécuter\" dans la barre d'outil\n",
    "- soit au clavier en tapant sur les touches MAJ + ENTREE  \n",
    "\n",
    "Ce notebook a pour objectif de vous faire découvrir comment on peut créer / modifier des images via Python. Dans les logiciels de retouche d'images, ce sont ces techniques qui sont utilisées.\n",
    "\n",
    "On utilise le module Image de la bibliothèque PIL (Pillow). Les fonctionnalités de base de la bibliothèse PIL sont expliquées dans le document pdf joint (appelé fonctionnalites_module_pillow.pdf.\n",
    "\n",
    "Pour récupérer votre travail sur votre ordinateur : menu File > Download As > Notebook (.ipynb)\n"
   ]
  },
  {
   "cell_type": "code",
   "execution_count": null,
   "metadata": {},
   "outputs": [],
   "source": [
    "from networkx import nx,diameter,radius,center\n",
    "import matplotlib.pyplot as plt\n",
    "\n",
    "reseau_social=nx.Graph()\n",
    "\n",
    "reseau_social.add_node('Emma')\n",
    "reseau_social.add_node('Enzo')\n",
    "reseau_social.add_node('Mehdi')\n",
    "reseau_social.add_node('Léa')\n",
    "reseau_social.add_node('Théo')\n",
    "\n",
    "reseau_social.add_edge('Emma','Enzo')\n",
    "reseau_social.add_edge('Emma','Mehdi')\n",
    "reseau_social.add_edge('Mehdi','Léa')\n",
    "reseau_social.add_edge('Mehdi','Théo')\n",
    "\n",
    "\n",
    "nx.draw(reseau_social, with_labels=True)\n",
    "plt.draw()\n",
    "plt.show()\n"
   ]
  },
  {
   "cell_type": "code",
   "execution_count": null,
   "metadata": {},
   "outputs": [],
   "source": []
  }
 ],
 "metadata": {
  "kernelspec": {
   "display_name": "Python 3",
   "language": "python",
   "name": "python3"
  },
  "language_info": {
   "codemirror_mode": {
    "name": "ipython",
    "version": 3
   },
   "file_extension": ".py",
   "mimetype": "text/x-python",
   "name": "python",
   "nbconvert_exporter": "python",
   "pygments_lexer": "ipython3",
   "version": "3.7.3"
  }
 },
 "nbformat": 4,
 "nbformat_minor": 2
}
