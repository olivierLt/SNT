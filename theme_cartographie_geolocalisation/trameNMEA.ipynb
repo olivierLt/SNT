{
 "cells": [
  {
   "cell_type": "markdown",
   "metadata": {},
   "source": [
    "# THÈME 5: Cartographie et géolocalisation\n",
    "\n",
    "#  Interpréter une trame GPS\n",
    "\n",
    "\n",
    "Un notebook se lit de haut en bas. Toutes les cellules de code doivent être exécutées :\n",
    "- soit en cliquant sur le bouton \"Exécuter\" dans la barre d'outil\n",
    "- soit au clavier en tapant sur les touches MAJ + ENTREE  \n",
    "\n",
    "\n",
    "Pour récupérer votre travail sur votre ordinateur : menu File > Download As > Notebook (.ipynb)"
   ]
  },
  {
   "cell_type": "markdown",
   "metadata": {},
   "source": [
    "## Notion de liste\n",
    "\n",
    "<div class = \"alert alert-warning\">\n",
    "\n",
    "Les listes sont des Les listes sont des séries de données placées les unes à la suite des autres.\n",
    "* Les éléments d'une liste sont donnés entre crochets.\n",
    "* Ils sont séparés par des virgules.\n",
    "* On peut accèder à chaque élément de la liste grâce à sa position dans la liste appelée index\n",
    "\n",
    "Voici une liste de 4 données en Python :\n",
    "\n",
    "``` python \n",
    "L = [ 12 , \"riri\" , 15.3 , \"Fifi\"] \n",
    "```\n",
    "\n",
    "Cette liste comprend \n",
    "* des nombres : nombre entier (12 : type int) ou à virgule (15.3 : type float )\n",
    "* des chaînes de caractères les valeurs sont entre guillemets \" \" (riri : type str)\n",
    "\n",
    "\n",
    "## Créer, modifier, afficher une liste : ##\n",
    "\n",
    "* L = \\[ liste des valeurs séparées par des virgules \\] pour créer une liste\n",
    "\n",
    "* print (L) pour afficher la liste\n",
    "\n",
    "* L.append(valeur à ajouter) pour ajouter une valeur en fin de liste\n",
    "\n",
    "* L.remove(valeur à supprimer) pour supprimer une valeur  : ne supprime que la première valeur rencontrée dans la iste s'il y a des doublons."
   ]
  },
  {
   "cell_type": "markdown",
   "metadata": {},
   "source": [
    "<div class = \"alert alert-info\">\n",
    "    \n",
    "**Question 1 :**\n",
    "\n",
    "1. Créer une liste appelée fruit avec les mots pomme, poire, tomate dans cet ordre\n",
    "2. Afficher la liste\n",
    "3. Ajouter le mot fraise dans cette liste\n",
    "4. Afficher la liste modifiée"
   ]
  },
  {
   "cell_type": "code",
   "execution_count": 1,
   "metadata": {},
   "outputs": [],
   "source": [
    "#Ecrire ci-dessous le programme python correspondant à la question 1\n",
    "\n"
   ]
  },
  {
   "cell_type": "markdown",
   "metadata": {},
   "source": [
    "<div class = \"alert alert-warning\">\n",
    "\n",
    "## Accéder aux éléments via des index :\n",
    "\n",
    "Les éléments d'une liste sont automatiquement numérotés **à partir de 0** . Par exemple, dans une liste L à 4 éléments, ceux-ci sont numérotés de 0 à 3. On accède à l'élément d'index n via l'expression L\\[n\\]. \n",
    "\n",
    "En utilisant des index négatifs, on part de la fin : L\\[-1\\] est le dernier élément, L\\[-2\\] est l'avant dernier .\n",
    "\n",
    "Si on veut remplacer un élément dans une liste, il suffit d'entrer la commande L\\[i\\] = nouvelle_valeur.\n"
   ]
  },
  {
   "cell_type": "markdown",
   "metadata": {},
   "source": [
    "<div class = \"alert alert-info\">\n",
    "    \n",
    "**Question 2 :**\n",
    "\n",
    " 1. Recopier le programme suivant, et compléter les commentaires de chaque ligne\n",
    " 2. Compléter le programme pour afficher le type de la deuxième donnée de la liste.\n",
    " 3. Compléter le programme pour remplacer l'élément en troisième position par le nombre 6.78.\n",
    " 4. Afficher la liste\n",
    "\n",
    "``` python\n",
    "L = [ 'pain' , 3 , 'couteau' , 3.14 ] #commentaire\n",
    "print (L[0]) #commentaire\n",
    "print (type (L[0])) #commentaire\n",
    "print (L[-2])#commentaire\n",
    "L[3] = 'pi' #commentaire\n",
    "print (L)#commentaire\n",
    "\n",
    "```"
   ]
  },
  {
   "cell_type": "code",
   "execution_count": 2,
   "metadata": {},
   "outputs": [],
   "source": [
    "#Ecrire ci-dessous le programme python correspondant à la question 2\n"
   ]
  },
  {
   "cell_type": "markdown",
   "metadata": {},
   "source": [
    "<div class = \"alert alert-warning\">\n",
    "\n",
    "## Transformer une chaîne de caractères en liste\n",
    "\n",
    "On utilise la méthode ``split()``  qui s'applique à  une chaîne de caractères. Elle a pour but séparer la chaîne de caractères selon le paramètre \"séparateur\"  et ainsi de remplir une liste avec comme valeurs les nouvelles chaînes formées. \n",
    "\n",
    "Pour utiliser split, la syntaxe est la suivante : `` ch.split (séparateur, maxsplit) `` avec \n",
    "\n",
    "* ch : la chaîne de caractères\n",
    "* séparateur : le délimiteur qui va permettre de récupérer les différentes chaînes de caractère à placer dans la liste. Si on ne met rien, le séparateur est l'espace vide ou la tabulation entre les caractères\n",
    "* maxsplit : le nombre de fois où on applique le séparateur\n",
    "\n",
    "### Exemple 1\n",
    "\n",
    "```python\n",
    "str = 'Ma super chaîne de caractères !'\n",
    "result = str.split()\n",
    "print result\n",
    "['Ma', 'super', 'chaîne', 'de', 'caractères']\n",
    "```\n",
    "Quand on ne passe pas d'arguments à split, par défaut, celui-ci sépare par rapport aux espaces(ou tabulations)contenus dans la chaîne d'origine.\n",
    "**Remarque** : une chaîne de caractère (type `str`) est notée entre guillemets  '  '\n",
    "\n",
    "\n",
    "### Exemple 2\n",
    "```python \n",
    "str = \"11/06/1994\"\n",
    "result = str.split(\"/\")\n",
    "print result\n",
    "['11', '06', '1994']\n",
    "```\n",
    "\n",
    "C'est le cas le plus classique,on sait par quel séparateur la chaîne doit être découpée et on le précise en paramètre. Précisons que le séparateur peut être une chaîne de caractère aussi.\n",
    "\n",
    "### Exemple 3\n",
    "```python\n",
    "str = \"11/06/1994\"\n",
    "result = str.split(\"/\", 1)\n",
    "print result\n",
    "['11', '06/1994']\n",
    "```\n",
    "\n",
    "Dans le cas de deux paramètres, le premier précise toujours le séparateur et le second précise combien de fois on divise la chaîne.\n",
    "\n",
    "### remarque\n",
    "**Les valeurs obtenues dans la liste sont des chaînes de caractère**. Si on veut obtenir des nombres, il faut les transformer en utilisant la méthode `` float`` .\n",
    "Par exemple :\n",
    "\n",
    "```python \n",
    "str = \"11/06/1994\"\n",
    "result = str.split(\"/\")\n",
    "print (result)\n",
    "print(result[0])\n",
    "print(type(result[0]))\n",
    "float(result[0])\n",
    "nombre=float(result[0])\n",
    "print(type(nombre))\n",
    "['11', '06', '1994']\n",
    "11\n",
    "<class 'str'>\n",
    "<class 'float'>\n",
    "```\n"
   ]
  },
  {
   "cell_type": "markdown",
   "metadata": {},
   "source": [
    "<div class = \"alert alert-info\">\n",
    "    \n",
    "**Question 3 :**\n",
    "\n",
    "On considère la chaïne de caractère suivante \"pomme, poire,76.6,fraise, 45.8\"\n",
    "Ecrire ci-dessous un programme python qui\n",
    "1. Créer une chaîne de caractère nommée chaine correspondant à la chaîne \"pomme, poire,76.6,fraise, 45.8\"\n",
    "2. Affiche la chaine de caractère sous forme d'une liste appelée liste, le séparateur étant la virgule.\n",
    "2. Affiche le type de la troisième valeur\n",
    "3. Transforme cette valeur en un nombre de type float\n",
    "4. Affiche la troisième valeur transformée"
   ]
  },
  {
   "cell_type": "code",
   "execution_count": 3,
   "metadata": {},
   "outputs": [],
   "source": [
    "#Ecrire ci-dessous le programme python correspondant à la question 3"
   ]
  },
  {
   "cell_type": "markdown",
   "metadata": {},
   "source": [
    "## Interprétation de la trame GPS avec un programme python\n",
    "\n",
    "Le but est d'analyser la trame GPS suivante grâce à un programme python\n",
    "\n",
    " $GPGGA,113239.512,4545.47208,N,00449.93164,E,1,08,0.6,3.4,155.3,M„,4A"
   ]
  },
  {
   "cell_type": "markdown",
   "metadata": {},
   "source": [
    "<div class = \"alert alert-info\">\n",
    "    \n",
    "**Question 4 :**\n",
    "\n",
    "Créer une chaine de caractère regroupant la trame reçue (le nom de la variable sera nommée trame)\n"
   ]
  },
  {
   "cell_type": "code",
   "execution_count": 4,
   "metadata": {},
   "outputs": [],
   "source": [
    "#Ecrire ci-dessous le programme python correspondant à la question 4\n",
    "\n"
   ]
  },
  {
   "cell_type": "markdown",
   "metadata": {},
   "source": [
    "<div class = \"alert alert-info\">\n",
    "    \n",
    "**Question 5 :**\n",
    "\n",
    "1. Créer une liste appelée liste en découpant la trame à chaque virgule\n",
    "2. Afficher cette liste"
   ]
  },
  {
   "cell_type": "code",
   "execution_count": 5,
   "metadata": {},
   "outputs": [],
   "source": [
    "#Ecrire ci-dessous le programme python correspondant à la question 5\n"
   ]
  },
  {
   "cell_type": "markdown",
   "metadata": {},
   "source": [
    "### Afficher l'heure"
   ]
  },
  {
   "cell_type": "markdown",
   "metadata": {},
   "source": [
    "<div class = \"alert alert-info\">\n",
    "    \n",
    "**Question 6 :**\n",
    "\n",
    "1. Créer une variable appelée date (= chaîne de caractère) correspondant à l'heure à partir de la liste : pour cela il suffit de repérer la position correspondant à la date dans la liste (cf question 3).\n",
    "\n",
    "2. Afficher la chaîne de caractère correspondant à la date.\n",
    "\n",
    "3. Récupération de l'heure\n",
    "    1. A partir de la chaine de caractère date, extraire la chaîne de caractère correspondant à l'heure. Pour cela, on utilise l'instruction `chaine [index_début_chaîne : index_fin_de_chaîne]`, l'index de fin de chaîne étant exclu, chaine étant le nom de la chaine. Ne pas oublier que l'indice d'une chaîne commence à 0. Si on tape l'instruction `chaine[index_début_chaîne : ]`, on obtient les caractères depuis l'index début_chaîne jusque la fin de la chaine sans avoir à préciser l'indice de fin. Par exemple si on a une chaîne de caractère nommée chaine  : `chaine='123coucou456'`, si on veut récupérer la chaine 456 : `valeur=chaine[8:]` (4 est en 9ème position et on récupère jusqu'à la fin de la chaîne de caractère).\n",
    "    2. transforme la chaine de caractère correspondant à l'heure en float par la commande . Par exemple, si on veut transformer la chaine de caractère valeur en float, il faut taper la commande `valeur=float(valeur)`\n",
    "\n",
    "4. De la même manière que pour les heures, créer une variable de type float appelée minutes et afficher les minutes.\n",
    "\n",
    "5. De la même manière que pour les heures, créer une variable de type float appelée secondes et afficher les secondes.\n",
    "\n",
    "6. Afficher la date sous forme d'une phrase La date d'envoi est ** h ** mn ** s"
   ]
  },
  {
   "cell_type": "code",
   "execution_count": 6,
   "metadata": {},
   "outputs": [],
   "source": [
    "#Ecrire ci-dessous le programme python correspondant à la question 6\n",
    "\n"
   ]
  },
  {
   "cell_type": "markdown",
   "metadata": {},
   "source": [
    "### Afficher la latitude"
   ]
  },
  {
   "cell_type": "markdown",
   "metadata": {},
   "source": [
    "<div class = \"alert alert-info\">\n",
    "    \n",
    "**Question 7 :**\n",
    "\n",
    "Ci-dessous est indiqué une fonction permettant d'obtenir la latitude en degré, minute (DM) à partir de la trame\n",
    "\n",
    "``` python\n",
    "\n",
    "def latitude(trame):\n",
    "    liste=trame.split(\",\")#on forme une liste à partir de la chaîne de caractère appelée trame\n",
    "    latitude=(liste[2])#commentaire \n",
    "    degre=float(latitude[0:2])#commentaire \n",
    "    minutes=float(latitude[2:]) #commentaire \n",
    "    minutes_converties_en_degre = minutes/60 #commentaire \n",
    "    return str(degre +  minutes_converties_en_degre) + liste[3] #commentaire \n",
    "```\n",
    "\n",
    "1. Recopier la fonction ci-dessous en complétant les commentaires\n",
    "2. Afficher la latitude de la trame $GPGGA,113239.512,4545.47208,N,00449.93164,E,1,08,0.6,3.4,155.3,M„,4A\n",
    "\n"
   ]
  },
  {
   "cell_type": "code",
   "execution_count": 7,
   "metadata": {},
   "outputs": [],
   "source": [
    "#Ecrire ci-dessous le programme python correspondant à la question 7\n",
    "\n"
   ]
  },
  {
   "cell_type": "markdown",
   "metadata": {},
   "source": [
    "### Afficher la longitude"
   ]
  },
  {
   "cell_type": "markdown",
   "metadata": {},
   "source": [
    "<div class = \"alert alert-info\">\n",
    "    \n",
    "**Question 8 :**\n",
    "\n",
    "Ci-dessous est indiqué une fonction permettant d'obtenir la latitude en degré, minute (DM) à partir de la trame\n",
    "\n",
    "Afficher la longitude correspondant à la trame précédente en s'inspirant de la question 7"
   ]
  },
  {
   "cell_type": "code",
   "execution_count": 8,
   "metadata": {},
   "outputs": [],
   "source": [
    "#Ecrire ci-dessous le programme python correspondant à la question 8\n",
    "\n"
   ]
  },
  {
   "cell_type": "markdown",
   "metadata": {},
   "source": [
    "<div class = \"alert alert-info\">\n",
    "    \n",
    "**Question 9 :**\n",
    "\n",
    "Chercher sur le site [ https://www.geoportail.gouv.fr]( https://www.geoportail.gouv.fr ) la position correspondant à la trame précédente"
   ]
  },
  {
   "cell_type": "markdown",
   "metadata": {},
   "source": [
    "localisation : "
   ]
  },
  {
   "cell_type": "markdown",
   "metadata": {},
   "source": [
    "### Afficher l'origine  du signal\n",
    "\n",
    "Les   deux   premiers   caractères   après   le   signe   $   de la trame   identifient   l'origine   du   signal.   Les principaux préfixes sont :\n",
    "\n",
    "* BD ou GB - Beidou ;\n",
    "* GA - Galileo ;\n",
    "* GP - GPS ;\n",
    "* GL - GLONASS"
   ]
  },
  {
   "cell_type": "markdown",
   "metadata": {},
   "source": [
    "<div class = \"alert alert-warning\">\n",
    "\n",
    "## Fonctions conditionnelles (rappels)\n",
    "\n",
    "### fonction If\n",
    "\n",
    "La fonction `if ` fonctionne de la manière suivante \n",
    "```python\n",
    "if condition:\n",
    "    résulat_si_vrai\n",
    "else:\n",
    "    résultat_si_faux\n",
    "```\n",
    "Attention à bien respecter les \":\" et l'indentation (= décalage)"
   ]
  },
  {
   "cell_type": "markdown",
   "metadata": {},
   "source": [
    "<div class = \"alert alert-info\">\n",
    "    \n",
    "**Question 10 :**\n",
    "\n",
    "Compléter le programme ci-dessous. Il doit afficher si le nombre entré au clavier est un nombre positif ou négatif"
   ]
  },
  {
   "cell_type": "code",
   "execution_count": null,
   "metadata": {},
   "outputs": [],
   "source": [
    "# programme à compléter\n",
    "print(\"entrer un nombre \")\n",
    "a=float(input())\n",
    "        \n",
    "        "
   ]
  },
  {
   "cell_type": "markdown",
   "metadata": {},
   "source": [
    "### fonction Elif\n",
    "\n",
    "Si il y a plusieurs conditions, il faut utiliser la fonction `elif`. elle fonctionne de la manière suivante \n",
    "\n",
    "```python\n",
    "if condition1:\n",
    "    résulat_si_condition1_vraie\n",
    "elif condition2:\n",
    "    résultat_si_condition2_vraie\n",
    "else:\n",
    "    resultat _si_conditions_fausses\n",
    "```\n",
    "Attention à bien respecter les \":\" et l'indentation (= décalage)"
   ]
  },
  {
   "cell_type": "markdown",
   "metadata": {},
   "source": [
    "<div class = \"alert alert-info\">\n",
    "    \n",
    "**Question 11 :**\n",
    "Compléter le programme ci-dessous. Il doit afficher si le nombre entré au clavier est un nombre positif nul ou négatif"
   ]
  },
  {
   "cell_type": "code",
   "execution_count": null,
   "metadata": {},
   "outputs": [],
   "source": [
    "# programme à compléter\n",
    "a=float(input(\"entrer un nombre \"))\n"
   ]
  },
  {
   "cell_type": "markdown",
   "metadata": {},
   "source": [
    "<div class = \"alert alert-info\">\n",
    "    \n",
    "**Question 12 :**\n",
    "\n",
    "En utilisant les questions précédentes, écrire le programme permettant d'afficher les deux lettres identifiant le type de satellite correspondant au signal"
   ]
  },
  {
   "cell_type": "code",
   "execution_count": null,
   "metadata": {},
   "outputs": [],
   "source": [
    "#Compléter ci-dessous le programme python correspondant à la question 12\n",
    "trame='$GPGGA,123519,4807.038,N,01131.324,E,1,08,0.9,545.4,M,46.9,M, , *42'"
   ]
  },
  {
   "cell_type": "markdown",
   "metadata": {},
   "source": [
    "<div class = \"alert alert-info\">\n",
    "    \n",
    "**Question 13 :**\n",
    "En utilisant les questions précédentes, écrire le programme permettant d'afficher  le type de satellite correspondant au signal"
   ]
  },
  {
   "cell_type": "code",
   "execution_count": 2,
   "metadata": {},
   "outputs": [],
   "source": [
    "#Compléter ci-dessous le programme python correspondant à la question 13\n",
    "trame='$GPGGA,123519,4807.038,N,01131.324,E,1,08,0.9,545.4,M,46.9,M, , *42'"
   ]
  }
 ],
 "metadata": {
  "kernelspec": {
   "display_name": "Python 3",
   "language": "python",
   "name": "python3"
  },
  "language_info": {
   "codemirror_mode": {
    "name": "ipython",
    "version": 3
   },
   "file_extension": ".py",
   "mimetype": "text/x-python",
   "name": "python",
   "nbconvert_exporter": "python",
   "pygments_lexer": "ipython3",
   "version": "3.7.3"
  }
 },
 "nbformat": 4,
 "nbformat_minor": 2
}
