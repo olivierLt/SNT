{
 "cells": [
  {
   "cell_type": "markdown",
   "metadata": {},
   "source": [
    "# THÈME 5 : Cartographie et géolocalisation\n",
    "\n",
    "#  Calcul d'itinéraires\n",
    "\n",
    "\n",
    "Un notebook se lit de haut en bas. Toutes les cellules de code doivent être exécutées :\n",
    "- soit en cliquant sur le bouton \"Exécuter\" dans la barre d'outil\n",
    "- soit au clavier en tapant sur les touches MAJ + ENTREE  \n",
    "\n",
    "Pour récupérer votre travail sur votre ordinateur : menu File > Download As > Notebook (.ipynb).\n"
   ]
  },
  {
   "cell_type": "markdown",
   "metadata": {},
   "source": [
    " \n",
    "# Trouver un itinéraire à l'aide de python et de OpenStreetMap\n",
    " \n",
    "Comme vous avez pu le constater quand vous avez travaillé sur Open Street Map, il est possible de définir les voies de communication (principalement les routes). La base de données OSM contient donc les routes (enfin, la plupart des routes...). En utilisant ces données, il est possible de développer des outils capables de calculer des itinéraires routiers (comme le propose tous les logiciels \"GPS\" : Waze, ViaMichelin, Mappy...) : vous renseignez votre lieu de départ, votre lieu d'arrivée puis le logiciel calcule votre itinéraire. Ce calcul d'itinéraire repose sur des algorithmes relativement complexes, par exemple l'algorithme de Dijkstra qui permet d'obtenir le plus court chemin entre deux points. "
   ]
  },
  {
   "cell_type": "markdown",
   "metadata": {},
   "source": [
    "## Obtenir la liste des coordonnées balisant le chemin\n",
    "\n",
    "La bibliothèque Python pyroutelib3 propose des \"outils\" pour calculer des itinéraires à partir des données d'Open Street Map. \n",
    "On peut ainsi obtenir une liste de coordonnées sous la forme (latitude, longitude) balisant le chemin."
   ]
  },
  {
   "cell_type": "markdown",
   "metadata": {},
   "source": [
    "<div class = \"alert alert-info\">\n",
    "    \n",
    "**Question 1 :**\n",
    "\n",
    "1. Exécutez le programme ci-dessous\n",
    "2. Sur le site [géoportail](https://www.geoportail.gouv.fr/)\n",
    "    1. tracer l'itinéraire\n",
    "    2. trouver un des lieux sur la liste"
   ]
  },
  {
   "cell_type": "code",
   "execution_count": null,
   "metadata": {},
   "outputs": [],
   "source": [
    "from pyroutelib3 import Router # importation de la bibliothèque pyroutelib3\n",
    "router = Router(\"car\") # définit le véhicule qui sera utilisé pour effectuer le trajet. Dans notre cas, nous utilisons une voiture (\"car\"), mais il est possible de choisir d'autres moyens de transport : cycle, foot, horse, tram, train \"\n",
    "depart = router.findNode(47.778184,  1.633573) # définitle point de départ . Nous avons \"router.findNode(latitude, longitude)\", il suffit de renseigner la latitude et la longitude du lieu. \n",
    "arrivee = router.findNode(47.903455,  1.905441)  # définit le point d'arrivée'\n",
    "status, route = router.doRoute(depart, arrivee) # calcul de l'itinéraire\n",
    "if status == 'success':\n",
    "    routeLatLons = list(map(router.nodeLatLon, route)) # la dernière ligne est exécutée uniquement si le calcul est mené à son terme (\"if\" de la ligne précédente). La variable \"routeLatLons\" contient la liste des coordonnées des points de cheminement (points qui constituent le chemin entre le point de départ et le point d'arrivée) \n",
    "print(routeLatLons) # affiche une liste des coordonnées des points du trajet"
   ]
  },
  {
   "cell_type": "markdown",
   "metadata": {},
   "source": [
    " \n",
    "## Tracer l' itinéraire à l'aide de python et de OpenStreetMap\n",
    "\n",
    "Avoir une liste de coordonnées, c'est déjà pas mal, mais cette liste n'est pas très exploitable tel quel. Nous allons donc utiliser ce que nous avons déjà vu précédemment sur la création de cartes. "
   ]
  },
  {
   "cell_type": "markdown",
   "metadata": {},
   "source": [
    "<div class = \"alert alert-info\">\n",
    "    \n",
    "**Question 2 :**\n",
    "\n",
    "1. Complétez le programme ci-dessous. \n",
    "2. La carte est sauvegardée dans le même dossier que le notebook. Téléchargez la carte et pouvrez la dans votre navigateur.\n",
    "3. Changez la variable router (cf le programme de la question 1 pour voir les différentes variables possibles et/ou les points d'arrivée et de départ puis téléchargez et visualisez la carte obtenue."
   ]
  },
  {
   "cell_type": "code",
   "execution_count": 1,
   "metadata": {},
   "outputs": [],
   "source": [
    "from pyroutelib3 import Router\n",
    "import folium\n",
    "\n",
    "router = Router(\"car\")\n",
    "depart = router.findNode(,)\n",
    "arrivee = router.findNode(,)\n",
    "status, route = router.doRoute(depart, arrivee)\n",
    "if status == 'success':\n",
    "    routeLatLons = list(map(router.nodeLatLon, route))\n",
    "\n",
    "c= folium.Map(location=[47.786807, 1.6220097],zoom_start=10)\n",
    "for coord in routeLatLons:\n",
    "      folium.Marker(coord).add_to(c)\n",
    "    \n",
    "c.save('monitineraire.html')"
   ]
  },
  {
   "cell_type": "markdown",
   "metadata": {},
   "source": [
    "# Modélisation des trajets par des graphes"
   ]
  },
  {
   "cell_type": "markdown",
   "metadata": {},
   "source": [
    "<div class = \"alert alert-info\">\n",
    "    \n",
    "**Question 3 :**\n",
    "\n",
    "Compléter le programme ci-dessous pour tracer le graphe correspondant à l'exemple donné dans la partie 2-1 de l'activité \n"
   ]
  },
  {
   "cell_type": "code",
   "execution_count": null,
   "metadata": {},
   "outputs": [],
   "source": [
    "import networkx as nx\n",
    "import matplotlib.pyplot as plt\n",
    "G = nx.Graph()\n",
    "edges=[(\"A\",\"B\",1),(\"A\",\"C\",2),       ]#création d'une liste d'arrête sous forme d'un triplet (a,b,w) où a et b sont les noeuds et w est le poids de l'arête\n",
    "G.add_weighted_edges_from(edges)#création d'un graphe pondéré à partir d'une liste d'arêtes \n",
    "pos = nx.spring_layout(G)\n",
    "nx.draw_networkx(G,pos,with_labels=True)\n",
    "edge_labels=nx.get_edge_attributes(G,'weight')\n",
    "nx.draw_networkx_edge_labels(G,pos,edge_labels)\n",
    "plt.show()"
   ]
  },
  {
   "cell_type": "markdown",
   "metadata": {},
   "source": [
    "## Quelques applications de l'algorithme de Disktra\n"
   ]
  },
  {
   "cell_type": "markdown",
   "metadata": {},
   "source": [
    "<div class = \"alert alert-info\">\n",
    "    \n",
    "**Question 4 :**\n",
    "    \n",
    "Écrire le programme pour \n",
    " \n",
    "- afficher le plus court chemin ( commande `nx.dijkstra_path(G,\"source\",\"destination\")` ) et la plus courte distance entre A et G (  commande `nx.dijkstra_lenght(G,\"source\",\"destination\")` ).\n",
    "- afficher les plus courts chemins ( commande `nx.single_source_dijkstra_path(G,\"source\")`) et les plus courtes distance  ( commande `nx.single_source_dijkstra_path_length(G,\"source\")`) entre A et tous les autres points du graphe.\n",
    "\n",
    "Vérifier que vous retrouvez bien la valeur du plus court chemin que vous avez détermibée dans l'activité"
   ]
  },
  {
   "cell_type": "code",
   "execution_count": null,
   "metadata": {},
   "outputs": [],
   "source": [
    "# Ecrire le programme ci-dessous"
   ]
  },
  {
   "cell_type": "markdown",
   "metadata": {},
   "source": [
    "<div class = \"alert alert-info\">\n",
    "    \n",
    "**Question 5 :**\n",
    "\n",
    "Appliquer ce qui vient d'être vu au graphe suivant :\n",
    "- tracer le graphe\n",
    "- trouver le plus court chemin et la plus courte distance entre A et E\n",
    "![exemple de graphe pondéré](https://www.annabac.com/sites/annabac.com/files/depot/images/96266/11/enonce/96266_11_016.gif)"
   ]
  },
  {
   "cell_type": "code",
   "execution_count": null,
   "metadata": {},
   "outputs": [],
   "source": [
    "# Ecrire le programme ci-dessous\n"
   ]
  }
 ],
 "metadata": {
  "kernelspec": {
   "display_name": "Python 3",
   "language": "python",
   "name": "python3"
  },
  "language_info": {
   "codemirror_mode": {
    "name": "ipython",
    "version": 3
   },
   "file_extension": ".py",
   "mimetype": "text/x-python",
   "name": "python",
   "nbconvert_exporter": "python",
   "pygments_lexer": "ipython3",
   "version": "3.7.3"
  }
 },
 "nbformat": 4,
 "nbformat_minor": 2
}
