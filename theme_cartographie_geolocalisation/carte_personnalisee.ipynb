{
 "cells": [
  {
   "cell_type": "markdown",
   "metadata": {},
   "source": [
    "# THÈME 5 : Cartographie et géolocalisation\n",
    "\n",
    "#  Créer une carte personnalisée"
   ]
  },
  {
   "cell_type": "markdown",
   "metadata": {},
   "source": [
    "## Le projet OpenStreetMap\n",
    "<div class = \"alert alert-warning\">\n",
    "    \n",
    "Cette activité utilise le logiciel python et la base de données géographiques [OpenStreetMap]( https://www.openstreetmap.org ).\n",
    "\n",
    "Ce projet a pour objectif de constituer une base de données géographiques libre du monde (permettant parexemple de créer des cartes sous licence libre), en utilisant le système GPS et d’autres données libres. Il a été créé par Steve Coast de University College de Londres en 2004. Différentes fondations et associations dans le monde financentsa mise en ligne, son existence matérielle et sa protection juridique. Pour remplir cette base de données, des imagessatellitaires libres ont été utilisées. Des organisations ont fait dons de cartes numériques pour les compléter. Descontributeurs l’ont enrichie également en modifiant des cartes ou en ajoutant des données GPS"
   ]
  },
  {
   "cell_type": "markdown",
   "metadata": {},
   "source": [
    "## Créer une carte\n",
    "\n",
    "Nous allons utiliser les cartes proposées par Open Street Map et le langage Python afin de générer des cartes personnalisées. Plus exactement, nous allons utiliser une bibliothèque Python nommée Folium. Une bibliothèque Python permet de rajouter des fonctionnalités au langage de base. Folium va donc nous permettre de créer nos propres cartes à partir des cartes proposées par Open Street Map \n",
    "\n",
    "Compléter le programme pour créer une carte centrée sur l'hotel de ville de Beaugency. "
   ]
  },
  {
   "cell_type": "code",
   "execution_count": 19,
   "metadata": {},
   "outputs": [],
   "source": [
    "import folium\n",
    "macarte= folium.Map(location=[latitude ,longitude],zoom_start=15) #ligne à modifier"
   ]
  },
  {
   "cell_type": "markdown",
   "metadata": {},
   "source": [
    "## Lire la carte directement dans le notebook"
   ]
  },
  {
   "cell_type": "markdown",
   "metadata": {},
   "source": [
    "Pour ouvrir la carte dans le navigateur, il suffit d'entrer la commande 'macarte'"
   ]
  },
  {
   "cell_type": "code",
   "execution_count": null,
   "metadata": {},
   "outputs": [],
   "source": [
    "macarte"
   ]
  },
  {
   "cell_type": "markdown",
   "metadata": {},
   "source": [
    "## Lire la carte dans un navigateur\n",
    "\n",
    "On peut aussi sauvegarder la carte pour être lue dans un navigateur. La carte est sauvegadée dans le même dossier que le notebook. Ouvrir le fichier dans le navigateur"
   ]
  },
  {
   "cell_type": "code",
   "execution_count": 13,
   "metadata": {},
   "outputs": [],
   "source": [
    "import folium\n",
    "macarte= folium.Map(location=[latitude ,longitude],zoom_start=15) #ligne à modifier\n",
    "macarte.save('carte.html')"
   ]
  },
  {
   "cell_type": "markdown",
   "metadata": {},
   "source": [
    "## Enrichir la carte\n",
    "\n",
    "Afin de vraiment personnaliser la carte, il est possible d'ajouter des marqueurs sur la carte. Un marqueur sera simplement défini par ses coordonnées (latitude et longitude). \n",
    "La ligne de code à ajouter est `folium.Marker([latitude,  longitude],popup=\"texte qui s'affiche lorsqu'on clique sur le marqueur\").add_to(carte)`\n",
    "\n",
    "Afficher la carte précédente avec un marqueur sur le lycée affichant la légende \"Lycée François Villon\"."
   ]
  },
  {
   "cell_type": "code",
   "execution_count": 20,
   "metadata": {},
   "outputs": [],
   "source": [
    "#écrire le programme ci-dessous\n"
   ]
  },
  {
   "cell_type": "markdown",
   "metadata": {},
   "source": [
    "### Pour aller plus loin\n",
    "Pour faire apparaitre un lien en cliquant sur le texte du marqueur   il faut modifier la ligne correspondant au marqueur comme suit ` folium.Marker([latitude, longitude], folium.Popup('<a href=\"https://adresse_du_lien/\" target=\"_blank\"> titre du lien  </a>')).add_to(carte)`\n"
   ]
  },
  {
   "cell_type": "code",
   "execution_count": 21,
   "metadata": {},
   "outputs": [],
   "source": [
    "#écrire le programme ci-dessous\n"
   ]
  },
  {
   "cell_type": "markdown",
   "metadata": {},
   "source": [
    "## Importation de données grâce au  format geojson\n",
    "\n",
    "On a déjà rencontré le format geojson dans l'activité avec géoportail : ils s'agit de données géolocalisées.\n",
    "On peut intégrer des données geojson dans une carte à l'aide du module folium. Des données geojson sont disponibles sur des sites en opnedata comme le site [data.gouv.fr](https://www.data.gouv.fr)​ qui comprend des données officielles (pas uniquement au format geojson) concernant la France.\n",
    "\n",
    "Pour intégrer des données géojson, éxécuter le code suivant : le nom du fichier est à modifier.\n",
    "\n",
    "Modifier/compléter le fichier :\n",
    "* pour centrer la carte sur la ville de Blois avec un zoom de 10\n",
    "* récupérer sur le site [data.gouv.fr](https://www.data.gouv.fr) la liste des chateaux et musées du Loir et Cher au format Geojson.\n"
   ]
  },
  {
   "cell_type": "code",
   "execution_count": null,
   "metadata": {},
   "outputs": [],
   "source": [
    "#écrire le programme ci-dessous\n",
    "import folium\n",
    "\n",
    "fichier=''#fichier geojson (il doit être dans le même dossier que le notebook)\n",
    "\n",
    "latitude=            #à compléter\n",
    "longitude=            #à compléter\n",
    "carte= folium.Map(location=[latitude ,longitude],zoom_start=10)\n",
    "\n",
    "carte.add_child(folium.GeoJson(fichier))#recupere les donnes geojson et les incorpore à  la carte\n",
    "carte"
   ]
  },
  {
   "cell_type": "markdown",
   "metadata": {},
   "source": [
    "### Créer  un fichier au format geojson\n",
    "\n",
    "Créer votre un fichier géojson sur le site [geojson.io](http://geojson.io) comportant un polygone (outil \"polygone\")  correspondant à votre maison , le trajet de votre maison (outil \"polyline\") jusqu'au lycée et un marquer sur votre maison, sur le trajet.. (outil \"draw a marker\"). Puis intégrer ce fichier à une carte en s'inspirant du programme précédent \n",
    "Vous pouvez enrichir le fichier (= ajouter des descriptifs)  geojson par un clic droit sur l'objet (le polygone ou le trajet) puis propriétés et AddRow.\n",
    "Pour sauvegarder votre fichier, il faut cliquer sur le menu Save et choisir le format GeoJSON.\n",
    "\n",
    "Remarque :\n",
    "Si vous importez votre fichier GeoJson dans Geoportail, les différentes propriétés des objets crées sont accessibles directement.\n"
   ]
  },
  {
   "cell_type": "code",
   "execution_count": 22,
   "metadata": {},
   "outputs": [],
   "source": [
    "#écrire le programme ci-dessous\n"
   ]
  }
 ],
 "metadata": {
  "kernelspec": {
   "display_name": "Python 3",
   "language": "python",
   "name": "python3"
  },
  "language_info": {
   "codemirror_mode": {
    "name": "ipython",
    "version": 3
   },
   "file_extension": ".py",
   "mimetype": "text/x-python",
   "name": "python",
   "nbconvert_exporter": "python",
   "pygments_lexer": "ipython3",
   "version": "3.7.3"
  }
 },
 "nbformat": 4,
 "nbformat_minor": 2
}
