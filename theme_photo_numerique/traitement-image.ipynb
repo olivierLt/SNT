{
 "cells": [
  {
   "cell_type": "markdown",
   "metadata": {},
   "source": [
    "# Traitement des images par python"
   ]
  },
  {
   "cell_type": "markdown",
   "metadata": {},
   "source": [
    "Un notebook se lit de haut en bas. Toutes les cellules de code doivent être exécutées :\n",
    "- soit en cliquant sur le bouton \"Exécuter\" dans la barre d'outil\n",
    "- soit au clavier en tapant sur les touches MAJ + ENTREE  \n",
    "\n",
    "Ce notebook a pour objectif de vous faire découvrir comment on peut créer / modifier des images via Python. Dans les logiciels de retouche d'images, ce sont ces techniques qui sont utilisées.\n",
    "\n",
    "On utilise le module Image de la bibliothèque PIL (Pillow). Les fonctionnalités de base de la bibliothèse PIL sont expliquées dans le document pdf joint (appelé fonctionnalites_module_pillow.pdf.\n",
    "\n",
    "Pour récupérer votre travail sur votre ordinateur : menu File > Download As > Notebook (.ipynb)\n"
   ]
  },
  {
   "cell_type": "markdown",
   "metadata": {},
   "source": [
    "## 1 : Importer les modules de traitement et d'affichage d'image"
   ]
  },
  {
   "cell_type": "code",
   "execution_count": 33,
   "metadata": {},
   "outputs": [],
   "source": [
    "from IPython.display import Image\n",
    "from PIL import Image\n",
    "from utilitaires_images import *"
   ]
  },
  {
   "cell_type": "markdown",
   "metadata": {},
   "source": [
    "## 2 : Ouvrir puis afficher une image présente dans le dossier `./images/`"
   ]
  },
  {
   "cell_type": "markdown",
   "metadata": {},
   "source": [
    "<div class = \"alert alert-warning\">\n",
    " \n",
    "Exécuter le code ci-dessous"
   ]
  },
  {
   "cell_type": "code",
   "execution_count": null,
   "metadata": {},
   "outputs": [],
   "source": [
    "image1 = Image.open('./images/brest_1960.jpg') # ouvre l'image brest_1960.jpg située dans le sous dossier images et l'affecte à la variable image1\n",
    "\n",
    "display(image1) # affiche image1\n"
   ]
  },
  {
   "cell_type": "markdown",
   "metadata": {},
   "source": [
    "<div class = \"alert alert-info\">\n",
    "    \n",
    "### Question 1\n",
    "\n",
    "Ouvrir l'image pomme située dans le dossier ./images/ , lui donner le nom image2 et afficher l'image"
   ]
  },
  {
   "cell_type": "code",
   "execution_count": null,
   "metadata": {},
   "outputs": [],
   "source": [
    "#entrer le code ici"
   ]
  },
  {
   "cell_type": "markdown",
   "metadata": {},
   "source": [
    "## 3 : Ouvrir puis afficher une image en l'agrandissant"
   ]
  },
  {
   "cell_type": "markdown",
   "metadata": {},
   "source": [
    "<div class = \"alert alert-warning\">\n",
    "\n",
    "On remplace :  \n",
    "    \n",
    "`display(nom_de_l_image)`  \n",
    "    \n",
    "par :\n",
    "\n",
    "`image_z = zoomer(nom_de_l_image, facteur_de_zoom)`  \n",
    "`display(image_z)`  "
   ]
  },
  {
   "cell_type": "markdown",
   "metadata": {},
   "source": [
    "<div class = \"alert alert-info\">\n",
    "    \n",
    "### Question 2\n",
    "\n",
    "Agrandir  2 fois l'image  brest_1960.jpg et l'afficher\n"
   ]
  },
  {
   "cell_type": "code",
   "execution_count": null,
   "metadata": {},
   "outputs": [],
   "source": [
    "#entrer le code ici"
   ]
  },
  {
   "cell_type": "markdown",
   "metadata": {},
   "source": [
    "## 4 : Créer une nouvelle image colorée puis afficher cette image"
   ]
  },
  {
   "cell_type": "markdown",
   "metadata": {},
   "source": [
    "<div class = \"alert alert-warning\">\n",
    "\n",
    " **Comment sont crées les couleurs sur un écran ?**\n",
    "\n",
    "Pour reproduire toutes les couleurs, il suffit de 3 couleurs fondamentales : Rouge, Verte et Bleue\n",
    "C'est pour cela que chaque pixel d'une image informatique est divisé  en 3 sous pixels \n",
    "\n",
    "![pixel-rvb](./images/pixel-rvb.png)\n",
    "\n",
    "Il faut imaginer que l’on règle l’intensité de trois sources lumineuses R rouge, V verte et B bleue qui se mélangent pour donner la couleur résultante. \n",
    "\n",
    "L’intensité de chacune des trois sous pixels  est codée sur 8 bits (=1 octets)ce qui nous donne un codage de 0 à 255. \n",
    "\n",
    "Comme il y a 3 canaux, chaque pixel de l'image est codé sur 24 bits (=3 octets). C'est ce qu'on appelle la profondeur de couleur.\n",
    "\n",
    "Si on multiplie le nombre de pixels de l'image par la profondeur de couleur, on trouve la taille mémoire du fichier image\n",
    "\n",
    "Comme pour le noir et blanc, pour chacune des couches, plus le code est proche de zéro moins vous envoyez de lumière et plus le code est proche de 255 plus vous envoyez de lumière. (255,255,255) correspond à de la lumière blanche (tous les pixels allumés), (0,0,0) correspond à la couleur noire (tous les pixels éteints).\n",
    "\n",
    "Par exemple, le code (0,0,255) correspond à de la couleur bleue, le code (255,255,0) à de la couleur jaune\n",
    "\n",
    "**simulateur**\n",
    "\n",
    "Utiliser le simulateur ci-dessous pour comprendre comment les couleurs sont obtenues"
   ]
  },
  {
   "cell_type": "code",
   "execution_count": 5,
   "metadata": {},
   "outputs": [
    {
     "data": {
      "text/html": [
       "\n",
       "        <iframe\n",
       "            width=\"950\"\n",
       "            height=\"500\"\n",
       "            src=\"https://physique-chimie.discip.ac-caen.fr/IMG/html/synthadd.html\"\n",
       "            frameborder=\"0\"\n",
       "            allowfullscreen\n",
       "        ></iframe>\n",
       "        "
      ],
      "text/plain": [
       "<IPython.lib.display.IFrame at 0x28cf6aed588>"
      ]
     },
     "execution_count": 5,
     "metadata": {},
     "output_type": "execute_result"
    }
   ],
   "source": [
    "#simulateur de la restitution des couleurs par un écran\n",
    "from IPython.display import IFrame\n",
    "IFrame('https://physique-chimie.discip.ac-caen.fr/IMG/html/synthadd.html', 950, 500)"
   ]
  },
  {
   "cell_type": "markdown",
   "metadata": {},
   "source": [
    "<div class = \"alert alert-warning\">\n",
    "    \n",
    "**Comment créer une image colorée?**    \n",
    "\n",
    "`Image.new(mode, taille, couleur)`  \n",
    "\n",
    "- mode : `\"RGB\"` pour une image en couleur, (`\"L\"` pour une image en noir et blanc : nous n'utiliserons pas) \n",
    "\n",
    "- taille : `(333, 222)` pour une image de 333 pixels de large et 222 pixels de haut  \n",
    "\n",
    "- couleur : `(0, 255, 128)` pour une couleur avec 0 de Rouge, 255 de vert (100%) et 128 de bleu (50%) en RGB\n",
    "\n",
    "Executer le programme ci-dessous\n",
    "    "
   ]
  },
  {
   "cell_type": "code",
   "execution_count": null,
   "metadata": {},
   "outputs": [],
   "source": [
    "image2 = Image.new(\"RGB\", (333, 222), (0, 255, 128))\n",
    "display(image2)"
   ]
  },
  {
   "cell_type": "markdown",
   "metadata": {},
   "source": [
    "<div class = \"alert alert-info\">  \n",
    "\n",
    "### Question 3\n",
    "    \n",
    "En modifiant le code ci-dessous, créez puis affichez une image de 299 pixels par 199 pixels de couleur jaune (Rouge + Vert)."
   ]
  },
  {
   "cell_type": "code",
   "execution_count": null,
   "metadata": {},
   "outputs": [],
   "source": [
    "#entrer le code ici"
   ]
  },
  {
   "cell_type": "markdown",
   "metadata": {},
   "source": [
    "<div class = \"alert alert-info\">  \n",
    "\n",
    "### Question 4\n",
    "    \n",
    "En modifiant le code ci-dessous, créez puis affichez une image de 6 pixels par 3 pixels de couleur rose (Rouge + Bleu). Attention c'est tout petit, donc vous ne verrez pas grand chose !"
   ]
  },
  {
   "cell_type": "code",
   "execution_count": null,
   "metadata": {},
   "outputs": [],
   "source": [
    "#entrer le code ici"
   ]
  },
  {
   "cell_type": "markdown",
   "metadata": {},
   "source": [
    "<div class = \"alert alert-info\">  \n",
    "\n",
    "### Question 5 \n",
    "    \n",
    "Affichez l'image ci-dessus en la zoomant 40 fois."
   ]
  },
  {
   "cell_type": "code",
   "execution_count": null,
   "metadata": {},
   "outputs": [],
   "source": [
    "#entrer le code ici"
   ]
  },
  {
   "cell_type": "markdown",
   "metadata": {},
   "source": [
    "## 5 : Créer une nouvelle image puis y écrire des pixels et afficher le résultat"
   ]
  },
  {
   "cell_type": "markdown",
   "metadata": {},
   "source": [
    "<div class = \"alert alert-warning\">\n",
    "\n",
    "`Image.new(mode, taille, couleur)`  comme avant puis on demande à l'image créée de modifier ses pixels :\n",
    "    \n",
    "`mon_image.putpixel((x, y), couleur)`\n",
    "\n",
    "\n",
    "\n",
    " \n",
    "- `x` : coordonnée horizontale du pixel (0 tout à gauche, axe vers la droite)\n",
    "    \n",
    "- `y` : coordonnée verticale du pixe (0 en haut, axe vers le bas)\n",
    "\n",
    "**Attention à la  position des pixels** : elle va de 0 à n-1 c'est à dire que si la largeur vaut 7 pixels, x va de 0 à 6\n",
    "    \n",
    "- `couleur` : comme avant avec les composantes rouge, vert et bleu entre 0 et 255.\n",
    "\n",
    "Exécuter les deux  programme ci-dessous"
   ]
  },
  {
   "cell_type": "code",
   "execution_count": null,
   "metadata": {},
   "outputs": [],
   "source": [
    "image5 = Image.new(\"RGB\", (7, 4), (0, 0, 0))#image noire au début\n",
    "\n",
    "image5.putpixel((0,0), (255, 0, 0)) #on met un pixel rouge en haut à gauche\n",
    "image5.putpixel((6, 3), (0, 0, 255)) #on met un pixel bleu en bas à droite\n",
    "image5.putpixel((6, 0), (0, 255, 0)) #on met un pixel vert en haut à droite\n",
    "image5.putpixel((2, 3), (255, 255, 0)) #on met un pixel jaune vers le bas\n",
    "\n",
    "display(image5)   #va être tout petit !"
   ]
  },
  {
   "cell_type": "code",
   "execution_count": null,
   "metadata": {},
   "outputs": [],
   "source": [
    "image5_z = zoomer(image5, 40)\n",
    "display(image5_z,40) #en agrandissant 40 fois c'est beaucoup mieux !"
   ]
  },
  {
   "cell_type": "markdown",
   "metadata": {},
   "source": [
    "<div class = \"alert alert-info\">  \n",
    "\n",
    "### Question 6 \n",
    "    \n",
    "Vous devez créer un petit [pixel-art](https://www.qwant.com/?q=pixel%20art&t=images) sur le m^émemodèle que celui ci-dessous tel que ce pixel-art \n",
    "- soit un carré de 7x7pixels\n",
    "- ait un fond bleu\n",
    "- contienne 2 pixels rouge, un pixel vert, un pixel jaune qui ne soient pas situés dans des coins du carré\n",
    "- soit affiché avec un zoom de 30\n"
   ]
  },
  {
   "cell_type": "code",
   "execution_count": null,
   "metadata": {},
   "outputs": [],
   "source": [
    "#entrer le code ici"
   ]
  },
  {
   "cell_type": "markdown",
   "metadata": {},
   "source": [
    "## 6 : Ouvrir une image et lire les valeurs de certains pixels"
   ]
  },
  {
   "cell_type": "markdown",
   "metadata": {},
   "source": [
    "<div class = \"alert alert-warning\">\n",
    "\n",
    "`Image.open(mode, chemin\\d\\acces\\au\\fichier)`  comme avant puis on demande à lire des pixels :\n",
    "    \n",
    "`mon_image.getpixel((x, y))`\n",
    " \n",
    "- `x` : coordonnée horizontale du pixel (0 tout à gauche, axe vers la droite)\n",
    "    \n",
    "- `y` : coordonnée verticale du pixe (0 en haut, axe vers le bas)\n",
    "\n",
    "Executer le programme ci-dessous"
   ]
  },
  {
   "cell_type": "code",
   "execution_count": null,
   "metadata": {},
   "outputs": [],
   "source": [
    "image6 = Image.open('./images/kawaii.jpg') #on ouvre le fichier image kawaii située dans le sous dossier ./images\n",
    "display(image6) # on affiche l'image 6\n",
    "\n",
    "R, V, B = image6.getpixel((0,0)) #pixel en haut à gauche (positionx=0, y=0): rose clair (du R, du V, et du B mais moins du vert)\n",
    "print(\"composante rouge :\",R,\"composante verte: \" ,V, \"composante bleue:\",B) # on affiche les valeurs r,v,b du pixel (0,0)"
   ]
  },
  {
   "cell_type": "markdown",
   "metadata": {},
   "source": [
    "<div class = \"alert alert-info\">  \n",
    "\n",
    "### Question 7\n",
    "\n",
    "Afficher les composantes rouge verte et bleue du pixel (80,80) de l'image kawaii.jpg située dans le dossier ./images/\n",
    "(ne pas afficher l'image)"
   ]
  },
  {
   "cell_type": "code",
   "execution_count": null,
   "metadata": {},
   "outputs": [],
   "source": [
    "#entrer le code ici"
   ]
  },
  {
   "cell_type": "markdown",
   "metadata": {},
   "source": [
    "# 7 : Effectuer des opérations pixel par pixel sur une grande zone"
   ]
  },
  {
   "cell_type": "markdown",
   "metadata": {},
   "source": [
    "<div class = \"alert alert-warning\">\n",
    "\n",
    "\n",
    "Jusque là on a travaillé en pixel par pixel : c'est bien gentil mais si on veut traiter une \"petite\" image de 400x300 pixels cela risque de prendre du temps (120 000 pixels tout de même).\n",
    "\n",
    "On peut utiliser la méthode suivante qui permet de parcourir une zone rectangulaire de pixels grâce à des boucles `for` (mais si, votre enseignant de maths vous en a forcément parlé) :\n",
    "\n",
    "```\n",
    "for x in range(xgauche, xdroit):\n",
    "    for y in range(yhaut, ybas):\n",
    "        faire ceci, cela sur le pixel de coordonnées (x, y)\n",
    "```\n",
    "\n",
    "qui peut se lire comme :\n",
    "\n",
    "```\n",
    "Pour chaque pixel(x, y) dans le rectangle compris entre xgauche et xdroit et entre yhaut et ybas:\n",
    "    faire ceci, cela sur le pixel de coordonnées (x, y)\n",
    "```\n",
    "\n"
   ]
  },
  {
   "cell_type": "markdown",
   "metadata": {},
   "source": [
    "<div class = \"alert alert-warning\">\n",
    "\n",
    "\n",
    "### Exemple 1\n",
    "\n",
    "```\n",
    "Pour chaque pixel dans le rectangle compris entre x = 50 et x = 450 et entre y = 200 et y = 250:\n",
    "    colorier le pixel en rose\n",
    "```\n",
    "\n",
    "Exécuter le programme ci-dessous"
   ]
  },
  {
   "cell_type": "code",
   "execution_count": null,
   "metadata": {},
   "outputs": [],
   "source": [
    "image7 = Image.new('RGB', (500, 300), (0, 0, 0))\n",
    "\n",
    "for x in range(50, 450):\n",
    "    for y in range(200, 250):\n",
    "        image7.putpixel((x,y), (255, 0, 255))\n",
    "        \n",
    "display(image7)"
   ]
  },
  {
   "cell_type": "markdown",
   "metadata": {},
   "source": [
    "<div class = \"alert alert-info\">  \n",
    "\n",
    "### Question 8\n",
    "\n",
    "En s'inspirant de l'exemple 1, coder l'image du drapeau français sur un rectangle 300x200 \n",
    "\n",
    "![pixel-rvb](./images/drapeau-français.png)"
   ]
  },
  {
   "cell_type": "code",
   "execution_count": null,
   "metadata": {},
   "outputs": [],
   "source": [
    "#entrer le code ici"
   ]
  },
  {
   "cell_type": "markdown",
   "metadata": {},
   "source": [
    "<div class = \"alert alert-warning\">\n",
    "\n",
    "\n",
    "\n",
    "### Exemple 2\n",
    "\n",
    "```\n",
    "Pour chaque pixel(x, y) dans le rectangle compris entre x = 0 et x = largeur de l'image \n",
    "                                                    et entre y = 0 et y = hauteur de l'image:\n",
    "    lire la valeur R, V, B du pixel(x, y)\n",
    "    inverser le R et le V\n",
    "```\n",
    "\n",
    "Exécuter le programme ci-dessous"
   ]
  },
  {
   "cell_type": "code",
   "execution_count": null,
   "metadata": {},
   "outputs": [],
   "source": [
    "image9 = Image.open('./images/kawaii.jpg')\n",
    "l,h=image9.size # la méthode size permet de récupérer la taille de l'image sous forme d'une série de 2 valeurs appelées ici l et h (cf fiche méthode) \n",
    "for x in range(0, l): #on parcourt les pixels sur toute la largeur l\n",
    "    for y in range(0, h): # on parcourt les pixels sur toute la hauteur h\n",
    "        R, V, B = image9.getpixel((x,y))  # on lit R, V, B\n",
    "        image9.putpixel((x,y), (V,R,B)) # on écrit V,R,B à la place de R,V,B (on remplace intervertit les composantes vertes et bleues) \n",
    "        \n",
    "display(image9)"
   ]
  },
  {
   "cell_type": "markdown",
   "metadata": {},
   "source": [
    "<div class = \"alert alert-info\">  \n",
    "\n",
    "### Question 9\n",
    "\n",
    "En s'inspirant de l'exemple 2, modifier la couleur de l'image de la pomme (fichier pomme.jpg situé dans le dossier ./images) pour supprimer la composante verte. Afficher l'image modifiée de la pomme."
   ]
  },
  {
   "cell_type": "code",
   "execution_count": null,
   "metadata": {},
   "outputs": [],
   "source": [
    "#entrer le code ici"
   ]
  }
 ],
 "metadata": {
  "kernelspec": {
   "display_name": "Python 3",
   "language": "python",
   "name": "python3"
  },
  "language_info": {
   "codemirror_mode": {
    "name": "ipython",
    "version": 3
   },
   "file_extension": ".py",
   "mimetype": "text/x-python",
   "name": "python",
   "nbconvert_exporter": "python",
   "pygments_lexer": "ipython3",
   "version": "3.7.3"
  }
 },
 "nbformat": 4,
 "nbformat_minor": 4
}
